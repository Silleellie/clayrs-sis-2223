{
 "cells": [
  {
   "cell_type": "markdown",
   "metadata": {
    "id": "emg8SDHcrYYf"
   },
   "source": [
    "# Installation with pip\n",
    "Every dependency needed by the framework will be downloaded and installed automatically"
   ]
  },
  {
   "cell_type": "code",
   "execution_count": 2,
   "metadata": {
    "colab": {
     "base_uri": "https://localhost:8080/"
    },
    "id": "_z0TVVHmQ2sU",
    "outputId": "2c9b3a58-6d57-48c0-8735-32100c0defae"
   },
   "outputs": [
    {
     "output_type": "stream",
     "name": "stdout",
     "text": [
      "Looking in indexes: https://pypi.org/simple, https://us-python.pkg.dev/colab-wheels/public/simple/\n",
      "Collecting clayrs\n",
      "  Downloading clayrs-0.4.0.tar.gz (225 kB)\n",
      "\u001B[?25l\r\u001B[K     |█▌                              | 10 kB 57.7 MB/s eta 0:00:01\r\u001B[K     |███                             | 20 kB 60.1 MB/s eta 0:00:01\r\u001B[K     |████▍                           | 30 kB 73.0 MB/s eta 0:00:01\r\u001B[K     |█████▉                          | 40 kB 20.8 MB/s eta 0:00:01\r\u001B[K     |███████▎                        | 51 kB 24.7 MB/s eta 0:00:01\r\u001B[K     |████████▊                       | 61 kB 28.7 MB/s eta 0:00:01\r\u001B[K     |██████████▏                     | 71 kB 29.2 MB/s eta 0:00:01\r\u001B[K     |███████████▋                    | 81 kB 31.5 MB/s eta 0:00:01\r\u001B[K     |█████████████                   | 92 kB 33.8 MB/s eta 0:00:01\r\u001B[K     |██████████████▌                 | 102 kB 31.7 MB/s eta 0:00:01\r\u001B[K     |████████████████                | 112 kB 31.7 MB/s eta 0:00:01\r\u001B[K     |█████████████████▍              | 122 kB 31.7 MB/s eta 0:00:01\r\u001B[K     |██████████████████▉             | 133 kB 31.7 MB/s eta 0:00:01\r\u001B[K     |████████████████████▎           | 143 kB 31.7 MB/s eta 0:00:01\r\u001B[K     |█████████████████████▊          | 153 kB 31.7 MB/s eta 0:00:01\r\u001B[K     |███████████████████████▏        | 163 kB 31.7 MB/s eta 0:00:01\r\u001B[K     |████████████████████████▋       | 174 kB 31.7 MB/s eta 0:00:01\r\u001B[K     |██████████████████████████▏     | 184 kB 31.7 MB/s eta 0:00:01\r\u001B[K     |███████████████████████████▋    | 194 kB 31.7 MB/s eta 0:00:01\r\u001B[K     |█████████████████████████████   | 204 kB 31.7 MB/s eta 0:00:01\r\u001B[K     |██████████████████████████████▌ | 215 kB 31.7 MB/s eta 0:00:01\r\u001B[K     |████████████████████████████████| 225 kB 31.7 MB/s eta 0:00:01\r\u001B[K     |████████████████████████████████| 225 kB 31.7 MB/s \n",
      "\u001B[?25h  Installing build dependencies ... \u001B[?25l\u001B[?25hdone\n",
      "  Getting requirements to build wheel ... \u001B[?25l\u001B[?25hdone\n",
      "    Preparing wheel metadata ... \u001B[?25l\u001B[?25hdone\n",
      "Collecting nest-asyncio~=1.5.5\n",
      "  Downloading nest_asyncio-1.5.6-py3-none-any.whl (5.2 kB)\n",
      "Collecting torch~=1.11.0\n",
      "  Downloading torch-1.11.0-cp38-cp38-manylinux1_x86_64.whl (750.6 MB)\n",
      "\u001B[K     |████████████████████████████████| 750.6 MB 21 kB/s \n",
      "\u001B[?25hCollecting distex~=0.7.1\n",
      "  Downloading distex-0.7.2-py3-none-any.whl (19 kB)\n",
      "Requirement already satisfied: textblob~=0.15.3 in /usr/local/lib/python3.8/dist-packages (from clayrs) (0.15.3)\n",
      "Requirement already satisfied: nltk~=3.5 in /usr/local/lib/python3.8/dist-packages (from clayrs) (3.7)\n",
      "Collecting mysql~=0.0.3\n",
      "  Downloading mysql-0.0.3-py3-none-any.whl (1.2 kB)\n",
      "Collecting spacy~=3.2.1\n",
      "  Downloading spacy-3.2.4-cp38-cp38-manylinux_2_17_x86_64.manylinux2014_x86_64.whl (6.2 MB)\n",
      "\u001B[K     |████████████████████████████████| 6.2 MB 54.9 MB/s \n",
      "\u001B[?25hRequirement already satisfied: matplotlib~=3.2.2 in /usr/local/lib/python3.8/dist-packages (from clayrs) (3.2.2)\n",
      "Collecting SPARQLWrapper~=1.8.5\n",
      "  Downloading SPARQLWrapper-1.8.5-py3-none-any.whl (26 kB)\n",
      "Collecting tqdm~=4.62.2\n",
      "  Downloading tqdm-4.62.3-py2.py3-none-any.whl (76 kB)\n",
      "\u001B[K     |████████████████████████████████| 76 kB 6.4 MB/s \n",
      "\u001B[?25hCollecting PyYAML~=5.3.1\n",
      "  Downloading PyYAML-5.3.1.tar.gz (269 kB)\n",
      "\u001B[K     |████████████████████████████████| 269 kB 72.9 MB/s \n",
      "\u001B[?25hCollecting gensim~=4.1.2\n",
      "  Downloading gensim-4.1.2-cp38-cp38-manylinux_2_12_x86_64.manylinux2010_x86_64.whl (24.1 MB)\n",
      "\u001B[K     |████████████████████████████████| 24.1 MB 1.2 MB/s \n",
      "\u001B[?25hCollecting pywsd~=1.2.4\n",
      "  Downloading pywsd-1.2.5-py3-none-any.whl (26.9 MB)\n",
      "\u001B[K     |████████████████████████████████| 26.9 MB 101.1 MB/s \n",
      "\u001B[?25hCollecting sentence-transformers~=1.2.0\n",
      "  Downloading sentence-transformers-1.2.1.tar.gz (80 kB)\n",
      "\u001B[K     |████████████████████████████████| 80 kB 12.2 MB/s \n",
      "\u001B[?25hRequirement already satisfied: scikit-learn==1.0.2 in /usr/local/lib/python3.8/dist-packages (from clayrs) (1.0.2)\n",
      "Collecting babelpy~=1.0.1\n",
      "  Downloading BabelPy-1.0.1.tar.gz (8.0 kB)\n",
      "Collecting pyaml~=21.10.1\n",
      "  Downloading pyaml-21.10.1-py2.py3-none-any.whl (24 kB)\n",
      "Collecting colorama~=0.4.4\n",
      "  Downloading colorama-0.4.6-py2.py3-none-any.whl (25 kB)\n",
      "Collecting wn~=0.0.23\n",
      "  Downloading wn-0.0.23.tar.gz (31.6 MB)\n",
      "\u001B[K     |████████████████████████████████| 31.6 MB 1.2 MB/s \n",
      "\u001B[?25hRequirement already satisfied: numpy~=1.21.6 in /usr/local/lib/python3.8/dist-packages (from clayrs) (1.21.6)\n",
      "Requirement already satisfied: scipy~=1.7.3 in /usr/local/lib/python3.8/dist-packages (from clayrs) (1.7.3)\n",
      "Collecting mysql-connector-python~=8.0.20\n",
      "  Downloading mysql_connector_python-8.0.31-cp38-cp38-manylinux1_x86_64.whl (23.5 MB)\n",
      "\u001B[K     |████████████████████████████████| 23.5 MB 89.8 MB/s \n",
      "\u001B[?25hCollecting ekphrasis~=0.5.4\n",
      "  Downloading ekphrasis-0.5.4-py3-none-any.whl (83 kB)\n",
      "\u001B[K     |████████████████████████████████| 83 kB 3.1 MB/s \n",
      "\u001B[?25hRequirement already satisfied: networkx~=2.6.3 in /usr/local/lib/python3.8/dist-packages (from clayrs) (2.6.3)\n",
      "Collecting transformers~=4.15.0\n",
      "  Downloading transformers-4.15.0-py3-none-any.whl (3.4 MB)\n",
      "\u001B[K     |████████████████████████████████| 3.4 MB 68.8 MB/s \n",
      "\u001B[?25hCollecting pandas~=1.2.4\n",
      "  Downloading pandas-1.2.5-cp38-cp38-manylinux_2_5_x86_64.manylinux1_x86_64.whl (9.7 MB)\n",
      "\u001B[K     |████████████████████████████████| 9.7 MB 74.5 MB/s \n",
      "\u001B[?25hCollecting whoosh~=2.7.4\n",
      "  Downloading Whoosh-2.7.4-py2.py3-none-any.whl (468 kB)\n",
      "\u001B[K     |████████████████████████████████| 468 kB 106.7 MB/s \n",
      "\u001B[?25hRequirement already satisfied: joblib>=0.11 in /usr/local/lib/python3.8/dist-packages (from scikit-learn==1.0.2->clayrs) (1.2.0)\n",
      "Requirement already satisfied: threadpoolctl>=2.0.0 in /usr/local/lib/python3.8/dist-packages (from scikit-learn==1.0.2->clayrs) (3.1.0)\n",
      "Requirement already satisfied: dill in /usr/local/lib/python3.8/dist-packages (from distex~=0.7.1->clayrs) (0.3.6)\n",
      "Collecting eventkit\n",
      "  Downloading eventkit-1.0.0-py3-none-any.whl (31 kB)\n",
      "Requirement already satisfied: cloudpickle in /usr/local/lib/python3.8/dist-packages (from distex~=0.7.1->clayrs) (1.5.0)\n",
      "Collecting ftfy\n",
      "  Downloading ftfy-6.1.1-py3-none-any.whl (53 kB)\n",
      "\u001B[K     |████████████████████████████████| 53 kB 2.3 MB/s \n",
      "\u001B[?25hCollecting ujson\n",
      "  Downloading ujson-5.5.0-cp38-cp38-manylinux_2_17_x86_64.manylinux2014_x86_64.whl (46 kB)\n",
      "\u001B[K     |████████████████████████████████| 46 kB 4.9 MB/s \n",
      "\u001B[?25hRequirement already satisfied: termcolor in /usr/local/lib/python3.8/dist-packages (from ekphrasis~=0.5.4->clayrs) (2.1.1)\n",
      "Requirement already satisfied: smart-open>=1.8.1 in /usr/local/lib/python3.8/dist-packages (from gensim~=4.1.2->clayrs) (5.2.1)\n",
      "Requirement already satisfied: python-dateutil>=2.1 in /usr/local/lib/python3.8/dist-packages (from matplotlib~=3.2.2->clayrs) (2.8.2)\n",
      "Requirement already satisfied: cycler>=0.10 in /usr/local/lib/python3.8/dist-packages (from matplotlib~=3.2.2->clayrs) (0.11.0)\n",
      "Requirement already satisfied: pyparsing!=2.0.4,!=2.1.2,!=2.1.6,>=2.0.1 in /usr/local/lib/python3.8/dist-packages (from matplotlib~=3.2.2->clayrs) (3.0.9)\n",
      "Requirement already satisfied: kiwisolver>=1.0.1 in /usr/local/lib/python3.8/dist-packages (from matplotlib~=3.2.2->clayrs) (1.4.4)\n",
      "Collecting mysqlclient\n",
      "  Downloading mysqlclient-2.1.1.tar.gz (88 kB)\n",
      "\u001B[K     |████████████████████████████████| 88 kB 9.4 MB/s \n",
      "\u001B[?25hRequirement already satisfied: protobuf<=3.20.1,>=3.11.0 in /usr/local/lib/python3.8/dist-packages (from mysql-connector-python~=8.0.20->clayrs) (3.19.6)\n",
      "Requirement already satisfied: regex>=2021.8.3 in /usr/local/lib/python3.8/dist-packages (from nltk~=3.5->clayrs) (2022.6.2)\n",
      "Requirement already satisfied: click in /usr/local/lib/python3.8/dist-packages (from nltk~=3.5->clayrs) (7.1.2)\n",
      "Requirement already satisfied: pytz>=2017.3 in /usr/local/lib/python3.8/dist-packages (from pandas~=1.2.4->clayrs) (2022.6)\n",
      "Requirement already satisfied: six>=1.5 in /usr/local/lib/python3.8/dist-packages (from python-dateutil>=2.1->matplotlib~=3.2.2->clayrs) (1.15.0)\n",
      "Requirement already satisfied: torchvision in /usr/local/lib/python3.8/dist-packages (from sentence-transformers~=1.2.0->clayrs) (0.13.1+cu113)\n",
      "Collecting sentencepiece\n",
      "  Downloading sentencepiece-0.1.97-cp38-cp38-manylinux_2_17_x86_64.manylinux2014_x86_64.whl (1.3 MB)\n",
      "\u001B[K     |████████████████████████████████| 1.3 MB 78.8 MB/s \n",
      "\u001B[?25hCollecting pydantic!=1.8,!=1.8.1,<1.9.0,>=1.7.4\n",
      "  Downloading pydantic-1.8.2-cp38-cp38-manylinux2014_x86_64.whl (13.7 MB)\n",
      "\u001B[K     |████████████████████████████████| 13.7 MB 62.9 MB/s \n",
      "\u001B[?25hRequirement already satisfied: jinja2 in /usr/local/lib/python3.8/dist-packages (from spacy~=3.2.1->clayrs) (2.11.3)\n",
      "Requirement already satisfied: requests<3.0.0,>=2.13.0 in /usr/local/lib/python3.8/dist-packages (from spacy~=3.2.1->clayrs) (2.23.0)\n",
      "Requirement already satisfied: pathy>=0.3.5 in /usr/local/lib/python3.8/dist-packages (from spacy~=3.2.1->clayrs) (0.9.0)\n",
      "Requirement already satisfied: langcodes<4.0.0,>=3.2.0 in /usr/local/lib/python3.8/dist-packages (from spacy~=3.2.1->clayrs) (3.3.0)\n",
      "Requirement already satisfied: catalogue<2.1.0,>=2.0.6 in /usr/local/lib/python3.8/dist-packages (from spacy~=3.2.1->clayrs) (2.0.8)\n",
      "Requirement already satisfied: packaging>=20.0 in /usr/local/lib/python3.8/dist-packages (from spacy~=3.2.1->clayrs) (21.3)\n",
      "Requirement already satisfied: spacy-legacy<3.1.0,>=3.0.8 in /usr/local/lib/python3.8/dist-packages (from spacy~=3.2.1->clayrs) (3.0.10)\n",
      "Requirement already satisfied: setuptools in /usr/local/lib/python3.8/dist-packages (from spacy~=3.2.1->clayrs) (57.4.0)\n",
      "Requirement already satisfied: wasabi<1.1.0,>=0.8.1 in /usr/local/lib/python3.8/dist-packages (from spacy~=3.2.1->clayrs) (0.10.1)\n",
      "Requirement already satisfied: cymem<2.1.0,>=2.0.2 in /usr/local/lib/python3.8/dist-packages (from spacy~=3.2.1->clayrs) (2.0.7)\n",
      "Collecting thinc<8.1.0,>=8.0.12\n",
      "  Downloading thinc-8.0.17-cp38-cp38-manylinux_2_17_x86_64.manylinux2014_x86_64.whl (671 kB)\n",
      "\u001B[K     |████████████████████████████████| 671 kB 71.7 MB/s \n",
      "\u001B[?25hRequirement already satisfied: preshed<3.1.0,>=3.0.2 in /usr/local/lib/python3.8/dist-packages (from spacy~=3.2.1->clayrs) (3.0.8)\n",
      "Collecting typer<0.5.0,>=0.3.0\n",
      "  Downloading typer-0.4.2-py3-none-any.whl (27 kB)\n",
      "Requirement already satisfied: blis<0.8.0,>=0.4.0 in /usr/local/lib/python3.8/dist-packages (from spacy~=3.2.1->clayrs) (0.7.9)\n",
      "Requirement already satisfied: murmurhash<1.1.0,>=0.28.0 in /usr/local/lib/python3.8/dist-packages (from spacy~=3.2.1->clayrs) (1.0.9)\n",
      "Requirement already satisfied: spacy-loggers<2.0.0,>=1.0.0 in /usr/local/lib/python3.8/dist-packages (from spacy~=3.2.1->clayrs) (1.0.3)\n",
      "Requirement already satisfied: srsly<3.0.0,>=2.4.1 in /usr/local/lib/python3.8/dist-packages (from spacy~=3.2.1->clayrs) (2.4.5)\n",
      "Requirement already satisfied: typing-extensions>=3.7.4.3 in /usr/local/lib/python3.8/dist-packages (from pydantic!=1.8,!=1.8.1,<1.9.0,>=1.7.4->spacy~=3.2.1->clayrs) (4.1.1)\n",
      "Requirement already satisfied: urllib3!=1.25.0,!=1.25.1,<1.26,>=1.21.1 in /usr/local/lib/python3.8/dist-packages (from requests<3.0.0,>=2.13.0->spacy~=3.2.1->clayrs) (1.24.3)\n",
      "Requirement already satisfied: chardet<4,>=3.0.2 in /usr/local/lib/python3.8/dist-packages (from requests<3.0.0,>=2.13.0->spacy~=3.2.1->clayrs) (3.0.4)\n",
      "Requirement already satisfied: certifi>=2017.4.17 in /usr/local/lib/python3.8/dist-packages (from requests<3.0.0,>=2.13.0->spacy~=3.2.1->clayrs) (2022.9.24)\n",
      "Requirement already satisfied: idna<3,>=2.5 in /usr/local/lib/python3.8/dist-packages (from requests<3.0.0,>=2.13.0->spacy~=3.2.1->clayrs) (2.10)\n",
      "Collecting rdflib>=4.0\n",
      "  Downloading rdflib-6.2.0-py3-none-any.whl (500 kB)\n",
      "\u001B[K     |████████████████████████████████| 500 kB 75.1 MB/s \n",
      "\u001B[?25hCollecting isodate\n",
      "  Downloading isodate-0.6.1-py2.py3-none-any.whl (41 kB)\n",
      "\u001B[K     |████████████████████████████████| 41 kB 739 kB/s \n",
      "\u001B[?25hCollecting tokenizers<0.11,>=0.10.1\n",
      "  Downloading tokenizers-0.10.3-cp38-cp38-manylinux_2_5_x86_64.manylinux1_x86_64.manylinux_2_12_x86_64.manylinux2010_x86_64.whl (3.3 MB)\n",
      "\u001B[K     |████████████████████████████████| 3.3 MB 58.6 MB/s \n",
      "\u001B[?25hRequirement already satisfied: filelock in /usr/local/lib/python3.8/dist-packages (from transformers~=4.15.0->clayrs) (3.8.0)\n",
      "Collecting sacremoses\n",
      "  Downloading sacremoses-0.0.53.tar.gz (880 kB)\n",
      "\u001B[K     |████████████████████████████████| 880 kB 76.1 MB/s \n",
      "\u001B[?25hCollecting huggingface-hub<1.0,>=0.1.0\n",
      "  Downloading huggingface_hub-0.11.1-py3-none-any.whl (182 kB)\n",
      "\u001B[K     |████████████████████████████████| 182 kB 105.8 MB/s \n",
      "\u001B[?25hRequirement already satisfied: wcwidth>=0.2.5 in /usr/local/lib/python3.8/dist-packages (from ftfy->ekphrasis~=0.5.4->clayrs) (0.2.5)\n",
      "Requirement already satisfied: MarkupSafe>=0.23 in /usr/local/lib/python3.8/dist-packages (from jinja2->spacy~=3.2.1->clayrs) (2.0.1)\n",
      "Requirement already satisfied: pillow!=8.3.*,>=5.3.0 in /usr/local/lib/python3.8/dist-packages (from torchvision->sentence-transformers~=1.2.0->clayrs) (7.1.2)\n",
      "Collecting torchvision\n",
      "  Downloading torchvision-0.14.0-cp38-cp38-manylinux1_x86_64.whl (24.3 MB)\n",
      "\u001B[K     |████████████████████████████████| 24.3 MB 68.3 MB/s \n",
      "\u001B[?25h  Downloading torchvision-0.13.1-cp38-cp38-manylinux1_x86_64.whl (19.1 MB)\n",
      "\u001B[K     |████████████████████████████████| 19.1 MB 31 kB/s \n",
      "\u001B[?25h  Downloading torchvision-0.13.0-cp38-cp38-manylinux1_x86_64.whl (19.1 MB)\n",
      "\u001B[K     |████████████████████████████████| 19.1 MB 104.4 MB/s \n",
      "\u001B[?25h  Downloading torchvision-0.12.0-cp38-cp38-manylinux1_x86_64.whl (21.0 MB)\n",
      "\u001B[K     |████████████████████████████████| 21.0 MB 1.2 MB/s \n",
      "\u001B[?25hBuilding wheels for collected packages: clayrs, babelpy, wn, PyYAML, sentence-transformers, mysqlclient, sacremoses\n",
      "  Building wheel for clayrs (PEP 517) ... \u001B[?25l\u001B[?25hdone\n",
      "  Created wheel for clayrs: filename=clayrs-0.4.0-py3-none-any.whl size=317900 sha256=7f367b5b9e97ff3b57d716a07ddac95433d7046ebb68656f4125c26e7a470309\n",
      "  Stored in directory: /root/.cache/pip/wheels/43/23/d3/56025a419c6d0344c2ece14362dff71825322329239ccfabdd\n",
      "  Building wheel for babelpy (setup.py) ... \u001B[?25l\u001B[?25hdone\n",
      "  Created wheel for babelpy: filename=BabelPy-1.0.1-py3-none-any.whl size=9723 sha256=b7a57e26dd2da4738123a9a0c40a67bbde86dc55716787bcb26980fc3d9a67e6\n",
      "  Stored in directory: /root/.cache/pip/wheels/67/8f/30/b724e0e8f88e79a32dc7358b52397421d71eac263bdb09e39a\n",
      "  Building wheel for wn (setup.py) ... \u001B[?25l\u001B[?25hdone\n",
      "  Created wheel for wn: filename=wn-0.0.23-py3-none-any.whl size=31792926 sha256=b9b95f21896144247cda43ef5d411b1288ce3f4f0ea02026a5651d76147744e2\n",
      "  Stored in directory: /root/.cache/pip/wheels/6b/eb/fe/eb7c7be28c29ee90dd9d6f58c116673d0eb07b2d83dfb72a37\n",
      "  Building wheel for PyYAML (setup.py) ... \u001B[?25l\u001B[?25hdone\n",
      "  Created wheel for PyYAML: filename=PyYAML-5.3.1-cp38-cp38-linux_x86_64.whl size=44634 sha256=c68a6c8fb7a1aa271a8209fda2b95901871fad2ab9b46b272df7510d80428075\n",
      "  Stored in directory: /root/.cache/pip/wheels/13/90/db/290ab3a34f2ef0b5a0f89235dc2d40fea83e77de84ed2dc05c\n",
      "  Building wheel for sentence-transformers (setup.py) ... \u001B[?25l\u001B[?25hdone\n",
      "  Created wheel for sentence-transformers: filename=sentence_transformers-1.2.1-py3-none-any.whl size=123300 sha256=e9424ecc0317dabd6c002a643083cd31cab4744ad432de41aa7b20a36bebedfc\n",
      "  Stored in directory: /root/.cache/pip/wheels/92/e0/93/a0f6582848b87b07fa73c0f1fe2f43b6328fd3171fe852f381\n",
      "  Building wheel for mysqlclient (setup.py) ... \u001B[?25l\u001B[?25hdone\n",
      "  Created wheel for mysqlclient: filename=mysqlclient-2.1.1-cp38-cp38-linux_x86_64.whl size=102400 sha256=2c1264e7851c5ee5937f1a195ef863106b35b53081427a4c9704615a43b07467\n",
      "  Stored in directory: /root/.cache/pip/wheels/5b/e1/84/a6185eaec318899f59a32d393af7729a0719cd93695d71f9a1\n",
      "  Building wheel for sacremoses (setup.py) ... \u001B[?25l\u001B[?25hdone\n",
      "  Created wheel for sacremoses: filename=sacremoses-0.0.53-py3-none-any.whl size=895260 sha256=34114567891df77f67969e68021dfed1b23bd74126bb8de6d226dbdfa72092ab\n",
      "  Stored in directory: /root/.cache/pip/wheels/82/ab/9b/c15899bf659ba74f623ac776e861cf2eb8608c1825ddec66a4\n",
      "Successfully built clayrs babelpy wn PyYAML sentence-transformers mysqlclient sacremoses\n",
      "Installing collected packages: tqdm, PyYAML, typer, torch, tokenizers, sacremoses, pydantic, isodate, huggingface-hub, wn, ujson, transformers, torchvision, thinc, sentencepiece, rdflib, pandas, mysqlclient, ftfy, eventkit, colorama, whoosh, SPARQLWrapper, spacy, sentence-transformers, pywsd, pyaml, nest-asyncio, mysql-connector-python, mysql, gensim, ekphrasis, distex, babelpy, clayrs\n",
      "  Attempting uninstall: tqdm\n",
      "    Found existing installation: tqdm 4.64.1\n",
      "    Uninstalling tqdm-4.64.1:\n",
      "      Successfully uninstalled tqdm-4.64.1\n",
      "  Attempting uninstall: PyYAML\n",
      "    Found existing installation: PyYAML 6.0\n",
      "    Uninstalling PyYAML-6.0:\n",
      "      Successfully uninstalled PyYAML-6.0\n",
      "  Attempting uninstall: typer\n",
      "    Found existing installation: typer 0.7.0\n",
      "    Uninstalling typer-0.7.0:\n",
      "      Successfully uninstalled typer-0.7.0\n",
      "  Attempting uninstall: torch\n",
      "    Found existing installation: torch 1.12.1+cu113\n",
      "    Uninstalling torch-1.12.1+cu113:\n",
      "      Successfully uninstalled torch-1.12.1+cu113\n",
      "  Attempting uninstall: pydantic\n",
      "    Found existing installation: pydantic 1.10.2\n",
      "    Uninstalling pydantic-1.10.2:\n",
      "      Successfully uninstalled pydantic-1.10.2\n",
      "  Attempting uninstall: torchvision\n",
      "    Found existing installation: torchvision 0.13.1+cu113\n",
      "    Uninstalling torchvision-0.13.1+cu113:\n",
      "      Successfully uninstalled torchvision-0.13.1+cu113\n",
      "  Attempting uninstall: thinc\n",
      "    Found existing installation: thinc 8.1.5\n",
      "    Uninstalling thinc-8.1.5:\n",
      "      Successfully uninstalled thinc-8.1.5\n",
      "  Attempting uninstall: pandas\n",
      "    Found existing installation: pandas 1.3.5\n",
      "    Uninstalling pandas-1.3.5:\n",
      "      Successfully uninstalled pandas-1.3.5\n",
      "  Attempting uninstall: spacy\n",
      "    Found existing installation: spacy 3.4.3\n",
      "    Uninstalling spacy-3.4.3:\n",
      "      Successfully uninstalled spacy-3.4.3\n",
      "  Attempting uninstall: gensim\n",
      "    Found existing installation: gensim 3.6.0\n",
      "    Uninstalling gensim-3.6.0:\n",
      "      Successfully uninstalled gensim-3.6.0\n",
      "\u001B[31mERROR: pip's dependency resolver does not currently take into account all the packages that are installed. This behaviour is the source of the following dependency conflicts.\n",
      "torchtext 0.13.1 requires torch==1.12.1, but you have torch 1.11.0 which is incompatible.\n",
      "torchaudio 0.12.1+cu113 requires torch==1.12.1, but you have torch 1.11.0 which is incompatible.\n",
      "en-core-web-sm 3.4.1 requires spacy<3.5.0,>=3.4.0, but you have spacy 3.2.4 which is incompatible.\u001B[0m\n",
      "Successfully installed PyYAML-5.3.1 SPARQLWrapper-1.8.5 babelpy-1.0.1 clayrs-0.4.0 colorama-0.4.6 distex-0.7.2 ekphrasis-0.5.4 eventkit-1.0.0 ftfy-6.1.1 gensim-4.1.2 huggingface-hub-0.11.1 isodate-0.6.1 mysql-0.0.3 mysql-connector-python-8.0.31 mysqlclient-2.1.1 nest-asyncio-1.5.6 pandas-1.2.5 pyaml-21.10.1 pydantic-1.8.2 pywsd-1.2.5 rdflib-6.2.0 sacremoses-0.0.53 sentence-transformers-1.2.1 sentencepiece-0.1.97 spacy-3.2.4 thinc-8.0.17 tokenizers-0.10.3 torch-1.11.0 torchvision-0.12.0 tqdm-4.62.3 transformers-4.15.0 typer-0.4.2 ujson-5.5.0 whoosh-2.7.4 wn-0.0.23\n"
     ]
    }
   ],
   "source": [
    "!pip install clayrs"
   ]
  },
  {
   "cell_type": "markdown",
   "metadata": {
    "id": "G1MOZctwVyW5"
   },
   "source": [
    "# **! RESTART RUNTIME !**"
   ]
  },
  {
   "cell_type": "code",
   "source": [
    "# for reproducibility but it's not perfect:\n",
    "# some environment variables should be set before starting\n",
    "# the python interpreter\n",
    "\n",
    "import numpy\n",
    "import random\n",
    "numpy.random.seed(42)\n",
    "random.seed(42)"
   ],
   "metadata": {
    "id": "5AilsAZD6lnr"
   },
   "execution_count": 1,
   "outputs": []
  },
  {
   "cell_type": "markdown",
   "metadata": {
    "id": "VTZB50Y3rN-8"
   },
   "source": [
    "# Correct order log and prints for IPython\n",
    "This is necessary only for IPython environments (Colab, Jupyter, etc.), since they mess up the order of  ```print``` and ```logging```\n",
    "\n",
    "```python\n",
    "# EXAMPLE of the issue\n",
    "import logging\n",
    "print(\"Should go first\")\n",
    "logging.warning(\"Should go second\")\n",
    "\n",
    "WARNING:root:Should go second\n",
    "Should go first\n",
    "```"
   ]
  },
  {
   "cell_type": "code",
   "execution_count": 2,
   "metadata": {
    "id": "GOTUezxnqzn7"
   },
   "outputs": [],
   "source": [
    "import functools\n",
    "print = functools.partial(print, flush=True)"
   ]
  },
  {
   "cell_type": "markdown",
   "metadata": {
    "id": "uVKotTbvf_rC"
   },
   "source": [
    "# Import and datasets download\n",
    "\n",
    "The framework is made of three modules:\n",
    "> 1.   Content Analyzer\n",
    "> 2.   Recommender System\n",
    "> 3.   Evaluation\n",
    "\n",
    "We import every module as a library and use classes and methods by using the dot notation:"
   ]
  },
  {
   "cell_type": "code",
   "execution_count": 3,
   "metadata": {
    "id": "SctkIBio9dhe"
   },
   "outputs": [],
   "source": [
    "from clayrs import content_analyzer as ca\n",
    "from clayrs import recsys as rs\n",
    "from clayrs import evaluation as eva\n",
    "\n",
    "# Usage:\n",
    "# ...\n",
    "# ca.Ratings()\n",
    "# rs.ContentBasedRS()\n",
    "# eva.EvalModel()\n",
    "# ..."
   ]
  },
  {
   "cell_type": "markdown",
   "metadata": {
    "id": "zYjcSfTtCXEw"
   },
   "source": [
    "We use **Movielens 100k** as dataset, with items info expanded thanks to imdb\n",
    "\n",
    "***POSSIBLE TO DO***: custom class with several built-in toy datasets?"
   ]
  },
  {
   "cell_type": "code",
   "execution_count": 4,
   "metadata": {
    "colab": {
     "base_uri": "https://localhost:8080/"
    },
    "id": "HwEnaPj4pvCS",
    "outputId": "92322db2-4b8c-4b62-c498-e6cf367dcf38"
   },
   "outputs": [
    {
     "output_type": "stream",
     "name": "stdout",
     "text": [
      "Downloaded items_info.json!\n",
      "Downloaded users_info.csv!\n",
      "Downloaded ratings.csv!\n"
     ]
    }
   ],
   "source": [
    "import requests\n",
    "\n",
    "def dl_file(url, output):\n",
    "    r = requests.get(url, allow_redirects=True)\n",
    "    with open(output, \"wb\") as handler:\n",
    "        handler.write(r.content)\n",
    "\n",
    "    print(f\"Downloaded {output}!\")\n",
    "\n",
    "# Dataset: Movielens-100k\n",
    "\n",
    "# download items_info\n",
    "url_items_info = \"https://raw.githubusercontent.com/swapUniba/clayrs/master/datasets/ml-100k/items_info.json\"\n",
    "dl_file(url_items_info, \"items_info.json\")\n",
    "\n",
    "# download users_info\n",
    "url_users_info = \"https://raw.githubusercontent.com/swapUniba/clayrs/master/datasets/ml-100k/users_info.csv\"\n",
    "dl_file(url_users_info, \"users_info.csv\")\n",
    "\n",
    "# download ratings\n",
    "url_ratings = \"https://raw.githubusercontent.com/swapUniba/clayrs/master/datasets/ml-100k/ratings.csv\"\n",
    "dl_file(url_ratings, \"ratings.csv\")"
   ]
  },
  {
   "cell_type": "markdown",
   "metadata": {
    "id": "EBOImtHzxTlQ"
   },
   "source": [
    "### Check items file\n",
    "In this example, the file containing items info is a JSON where every entry corresponds to a movie.\n",
    "\n",
    "For every movie there are various information, such as *genres, directors, cast, etc.*"
   ]
  },
  {
   "cell_type": "code",
   "execution_count": 5,
   "metadata": {
    "colab": {
     "base_uri": "https://localhost:8080/"
    },
    "id": "eAMUA6B6wSje",
    "outputId": "057f3673-367f-44c1-eceb-52ac99513113"
   },
   "outputs": [
    {
     "output_type": "stream",
     "name": "stdout",
     "text": [
      "[\n",
      "    {\n",
      "        \"movielens_id\": \"1\",\n",
      "        \"imdb_id\": \"0114709\",\n",
      "        \"title\": \"Toy Story\",\n",
      "        \"plot\": \"A cowboy doll is profoundly threatened and jealous when a new spaceman figure supplants him as top toy in a boy's room.\",\n",
      "        \"genres\": \"Animation, Adventure, Comedy, Family, Fantasy\",\n",
      "        \"year\": \"1995\",\n",
      "        \"rating\": \"8.3\",\n",
      "        \"directors\": \"John Lasseter\",\n",
      "        \"cast\": \"Tom Hanks, Tim Allen, Don Rickles, Jim Varney, Wallace Shawn, John Ratzenberger, Annie Potts, John Morris, Erik von Detten, Laurie Metcalf, R. Lee Ermey, Sarah Rayne, Penn Jillette, Jack Angel, Spencer Aste, Greg Berg, Lisa Bradley, Kendall Cunningham, Debi Derryberry, Cody Dorkin, Bill Farmer, Craig Good, Gregory Grudt, Danielle Judovits, Sam Lasseter, Brittany Levenbrown, Sherry Lynn, Scott McAfee, Mickie McGowan, Ryan O'Donohue, Jeff Pidgeon, Patrick Pinney, Phil Proctor, Jan Rabson, Joe Ranft, Andrew Stanton, Shane Sweet, Wayne Allwine, Tony Anselmo, Jonathan Benair, Anthony Burch, John Lasseter, Billy West\",\n",
      "        \"dbpedia_uri\": \"http://dbpedia.org/resource/Toy_Story\",\n",
      "        \"dbpedia_label\": \"Toy Story\"\n",
      "    },\n",
      "    {\n",
      "        \"movielens_id\": \"2\",\n",
      "        \"imdb_id\": \"0113189\",\n",
      "        \"title\": \"GoldenEye\",\n",
      "        \"plot\": \"Years after a friend and fellow 00 agent is killed on a joint mission, a secret space based weapons program known as \\\"_GoldenEye_ (qv)\\\" is stolen. James Bond sets out to stop a Russian crime syndicate from using the weapon.\",\n",
      "        \"genres\": \"Action, Adventure, Thriller\",\n",
      "        \"year\": \"1995\",\n",
      "        \"rating\": \"7.2\",\n",
      "        \"directors\": \"Martin Campbell\",\n",
      "        \"cast\": \"Pierce Brosnan, Sean Bean, Izabella Scorupco, Famke Janssen, Joe Don Baker, Judi Dench, Robbie Coltrane, Tchéky Karyo, Gottfried John, Alan Cumming, Desmond Llewelyn, Samantha Bond, Michael Kitchen, Serena Gordon, Simon Kunz, Pavel Douglas, Olivier Lajous, Billy J. Mitchell, Constantine Gregory, Minnie Driver, Michelle Arthur, Ravil Isyanov, Vladimir Milanovich, Trevor Byfield, Peter Majer, Paul Bannon, Simone Bechtel, Martin Campbell, Mark Chapman, Kenneth Coombs, Simon Crane, Terrance Denville, Ian Durrant, Max Faulkner, Juliet Forester, Stefan Kopiecki, Jo Anna Lee, Derek Lyons, Wayne Michaels, Bhasker Patel, Paul Sacks, Michael G. Wilson\",\n",
      "        \"dbpedia_uri\": \"http://dbpedia.org/resource/GoldenEye\",\n"
     ]
    }
   ],
   "source": [
    "with open(\"items_info.json\", \"r\") as f:\n",
    "  # 25 lines but in these 25 lines there are only 2 entries:\n",
    "  # 'Toy Story', and 'Golden Eye'\n",
    "  for _ in range(25):\n",
    "    print(f.readline(), end='')\n"
   ]
  },
  {
   "cell_type": "markdown",
   "metadata": {
    "id": "NrGycV8NxkwF"
   },
   "source": [
    "### Check users file\n",
    "In this example, the file containing users info is a CSV file where the first column is the *user id*, while the other columns are side information for that user (*gender, occupation, zip code*)"
   ]
  },
  {
   "cell_type": "code",
   "execution_count": 6,
   "metadata": {
    "colab": {
     "base_uri": "https://localhost:8080/"
    },
    "id": "vUKLNAnMxEnh",
    "outputId": "f090d848-e2f2-4331-8ad3-df33bc72ba90"
   },
   "outputs": [
    {
     "output_type": "stream",
     "name": "stdout",
     "text": [
      "user_id,age,gender,occupation,zip_code\n",
      "1,24,M,technician,85711\n",
      "2,53,F,other,94043\n"
     ]
    }
   ],
   "source": [
    "with open(\"users_info.csv\", \"r\") as f:\n",
    "\n",
    "  # print the header and the first 2 entries\n",
    "  for _ in range(3):\n",
    "    print(f.readline(), end='')"
   ]
  },
  {
   "cell_type": "markdown",
   "metadata": {
    "id": "dteEOqLxkDGR"
   },
   "source": [
    "<a name=\"cell-id\"></a>\n",
    "### Check ratings\n",
    "In this example, the file containing the interactions between the users and the movies is a CSV, where every interaction is a rating in the **[1, 5]** Likert scale"
   ]
  },
  {
   "cell_type": "code",
   "execution_count": 7,
   "metadata": {
    "colab": {
     "base_uri": "https://localhost:8080/",
     "height": 424
    },
    "id": "Q3FvQsaIkbtz",
    "outputId": "db698686-c41f-4915-8f80-c7baf4806478"
   },
   "outputs": [
    {
     "output_type": "execute_result",
     "data": {
      "text/plain": [
       "       user_id  item_id  rating  timestamp\n",
       "0          196      242       3  881250949\n",
       "1          186      302       3  891717742\n",
       "2           22      377       1  878887116\n",
       "3          244       51       2  880606923\n",
       "4          166      346       1  886397596\n",
       "...        ...      ...     ...        ...\n",
       "99995      880      476       3  880175444\n",
       "99996      716      204       5  879795543\n",
       "99997      276     1090       1  874795795\n",
       "99998       13      225       2  882399156\n",
       "99999       12      203       3  879959583\n",
       "\n",
       "[100000 rows x 4 columns]"
      ],
      "text/html": [
       "\n",
       "  <div id=\"df-bd07ca97-6e81-47cb-8f64-464893039a18\">\n",
       "    <div class=\"colab-df-container\">\n",
       "      <div>\n",
       "<style scoped>\n",
       "    .dataframe tbody tr th:only-of-type {\n",
       "        vertical-align: middle;\n",
       "    }\n",
       "\n",
       "    .dataframe tbody tr th {\n",
       "        vertical-align: top;\n",
       "    }\n",
       "\n",
       "    .dataframe thead th {\n",
       "        text-align: right;\n",
       "    }\n",
       "</style>\n",
       "<table border=\"1\" class=\"dataframe\">\n",
       "  <thead>\n",
       "    <tr style=\"text-align: right;\">\n",
       "      <th></th>\n",
       "      <th>user_id</th>\n",
       "      <th>item_id</th>\n",
       "      <th>rating</th>\n",
       "      <th>timestamp</th>\n",
       "    </tr>\n",
       "  </thead>\n",
       "  <tbody>\n",
       "    <tr>\n",
       "      <th>0</th>\n",
       "      <td>196</td>\n",
       "      <td>242</td>\n",
       "      <td>3</td>\n",
       "      <td>881250949</td>\n",
       "    </tr>\n",
       "    <tr>\n",
       "      <th>1</th>\n",
       "      <td>186</td>\n",
       "      <td>302</td>\n",
       "      <td>3</td>\n",
       "      <td>891717742</td>\n",
       "    </tr>\n",
       "    <tr>\n",
       "      <th>2</th>\n",
       "      <td>22</td>\n",
       "      <td>377</td>\n",
       "      <td>1</td>\n",
       "      <td>878887116</td>\n",
       "    </tr>\n",
       "    <tr>\n",
       "      <th>3</th>\n",
       "      <td>244</td>\n",
       "      <td>51</td>\n",
       "      <td>2</td>\n",
       "      <td>880606923</td>\n",
       "    </tr>\n",
       "    <tr>\n",
       "      <th>4</th>\n",
       "      <td>166</td>\n",
       "      <td>346</td>\n",
       "      <td>1</td>\n",
       "      <td>886397596</td>\n",
       "    </tr>\n",
       "    <tr>\n",
       "      <th>...</th>\n",
       "      <td>...</td>\n",
       "      <td>...</td>\n",
       "      <td>...</td>\n",
       "      <td>...</td>\n",
       "    </tr>\n",
       "    <tr>\n",
       "      <th>99995</th>\n",
       "      <td>880</td>\n",
       "      <td>476</td>\n",
       "      <td>3</td>\n",
       "      <td>880175444</td>\n",
       "    </tr>\n",
       "    <tr>\n",
       "      <th>99996</th>\n",
       "      <td>716</td>\n",
       "      <td>204</td>\n",
       "      <td>5</td>\n",
       "      <td>879795543</td>\n",
       "    </tr>\n",
       "    <tr>\n",
       "      <th>99997</th>\n",
       "      <td>276</td>\n",
       "      <td>1090</td>\n",
       "      <td>1</td>\n",
       "      <td>874795795</td>\n",
       "    </tr>\n",
       "    <tr>\n",
       "      <th>99998</th>\n",
       "      <td>13</td>\n",
       "      <td>225</td>\n",
       "      <td>2</td>\n",
       "      <td>882399156</td>\n",
       "    </tr>\n",
       "    <tr>\n",
       "      <th>99999</th>\n",
       "      <td>12</td>\n",
       "      <td>203</td>\n",
       "      <td>3</td>\n",
       "      <td>879959583</td>\n",
       "    </tr>\n",
       "  </tbody>\n",
       "</table>\n",
       "<p>100000 rows × 4 columns</p>\n",
       "</div>\n",
       "      <button class=\"colab-df-convert\" onclick=\"convertToInteractive('df-bd07ca97-6e81-47cb-8f64-464893039a18')\"\n",
       "              title=\"Convert this dataframe to an interactive table.\"\n",
       "              style=\"display:none;\">\n",
       "        \n",
       "  <svg xmlns=\"http://www.w3.org/2000/svg\" height=\"24px\"viewBox=\"0 0 24 24\"\n",
       "       width=\"24px\">\n",
       "    <path d=\"M0 0h24v24H0V0z\" fill=\"none\"/>\n",
       "    <path d=\"M18.56 5.44l.94 2.06.94-2.06 2.06-.94-2.06-.94-.94-2.06-.94 2.06-2.06.94zm-11 1L8.5 8.5l.94-2.06 2.06-.94-2.06-.94L8.5 2.5l-.94 2.06-2.06.94zm10 10l.94 2.06.94-2.06 2.06-.94-2.06-.94-.94-2.06-.94 2.06-2.06.94z\"/><path d=\"M17.41 7.96l-1.37-1.37c-.4-.4-.92-.59-1.43-.59-.52 0-1.04.2-1.43.59L10.3 9.45l-7.72 7.72c-.78.78-.78 2.05 0 2.83L4 21.41c.39.39.9.59 1.41.59.51 0 1.02-.2 1.41-.59l7.78-7.78 2.81-2.81c.8-.78.8-2.07 0-2.86zM5.41 20L4 18.59l7.72-7.72 1.47 1.35L5.41 20z\"/>\n",
       "  </svg>\n",
       "      </button>\n",
       "      \n",
       "  <style>\n",
       "    .colab-df-container {\n",
       "      display:flex;\n",
       "      flex-wrap:wrap;\n",
       "      gap: 12px;\n",
       "    }\n",
       "\n",
       "    .colab-df-convert {\n",
       "      background-color: #E8F0FE;\n",
       "      border: none;\n",
       "      border-radius: 50%;\n",
       "      cursor: pointer;\n",
       "      display: none;\n",
       "      fill: #1967D2;\n",
       "      height: 32px;\n",
       "      padding: 0 0 0 0;\n",
       "      width: 32px;\n",
       "    }\n",
       "\n",
       "    .colab-df-convert:hover {\n",
       "      background-color: #E2EBFA;\n",
       "      box-shadow: 0px 1px 2px rgba(60, 64, 67, 0.3), 0px 1px 3px 1px rgba(60, 64, 67, 0.15);\n",
       "      fill: #174EA6;\n",
       "    }\n",
       "\n",
       "    [theme=dark] .colab-df-convert {\n",
       "      background-color: #3B4455;\n",
       "      fill: #D2E3FC;\n",
       "    }\n",
       "\n",
       "    [theme=dark] .colab-df-convert:hover {\n",
       "      background-color: #434B5C;\n",
       "      box-shadow: 0px 1px 3px 1px rgba(0, 0, 0, 0.15);\n",
       "      filter: drop-shadow(0px 1px 2px rgba(0, 0, 0, 0.3));\n",
       "      fill: #FFFFFF;\n",
       "    }\n",
       "  </style>\n",
       "\n",
       "      <script>\n",
       "        const buttonEl =\n",
       "          document.querySelector('#df-bd07ca97-6e81-47cb-8f64-464893039a18 button.colab-df-convert');\n",
       "        buttonEl.style.display =\n",
       "          google.colab.kernel.accessAllowed ? 'block' : 'none';\n",
       "\n",
       "        async function convertToInteractive(key) {\n",
       "          const element = document.querySelector('#df-bd07ca97-6e81-47cb-8f64-464893039a18');\n",
       "          const dataTable =\n",
       "            await google.colab.kernel.invokeFunction('convertToInteractive',\n",
       "                                                     [key], {});\n",
       "          if (!dataTable) return;\n",
       "\n",
       "          const docLinkHtml = 'Like what you see? Visit the ' +\n",
       "            '<a target=\"_blank\" href=https://colab.research.google.com/notebooks/data_table.ipynb>data table notebook</a>'\n",
       "            + ' to learn more about interactive tables.';\n",
       "          element.innerHTML = '';\n",
       "          dataTable['output_type'] = 'display_data';\n",
       "          await google.colab.output.renderOutput(dataTable, element);\n",
       "          const docLink = document.createElement('div');\n",
       "          docLink.innerHTML = docLinkHtml;\n",
       "          element.appendChild(docLink);\n",
       "        }\n",
       "      </script>\n",
       "    </div>\n",
       "  </div>\n",
       "  "
      ]
     },
     "metadata": {},
     "execution_count": 7
    }
   ],
   "source": [
    "import pandas as pd\n",
    "\n",
    "pd.read_csv('ratings.csv')"
   ]
  },
  {
   "cell_type": "markdown",
   "metadata": {
    "id": "ilGpvNnPgHay"
   },
   "source": [
    "# Content Analyzer: representation of Items\n",
    "In order to define the *item representation*, the following parameters should be defined:\n",
    "*   ***source***: the path of the file containing items info\n",
    "*   ***id***: the field that uniquely identifies an item\n",
    "*   ***output_directory***: the path where serialized representations are saved\n",
    "\n"
   ]
  },
  {
   "cell_type": "code",
   "execution_count": 8,
   "metadata": {
    "id": "gORk6J3wqJGB"
   },
   "outputs": [],
   "source": [
    "# Configuration of item representation \n",
    "movies_ca_config = ca.ItemAnalyzerConfig(\n",
    "    source=ca.JSONFile('items_info.json'),\n",
    "    id='movielens_id',\n",
    "    output_directory='movies_codified/',\n",
    ")"
   ]
  },
  {
   "cell_type": "markdown",
   "metadata": {
    "id": "YfnkSpfTjuDq"
   },
   "source": [
    "<a name=\"ca_id\"></a>\n",
    "Each item can be represented using a set of fields.\n",
    "Every field can be **represented** using several techniques, such as *'tfidf'*, *'entity linking'*, *'embeddings'*, etc.\n",
    "\n",
    "It is possible to process the content of each field using a **Natural Language Processing (NLP) pipeline**. \n",
    "\n",
    "> In the following example, we **expand** every item by retrieving its properties from **DBPedia**\n"
   ]
  },
  {
   "cell_type": "markdown",
   "metadata": {
    "id": "5J_ayHLdQJxb"
   },
   "source": [
    "In order to do that, we call the `add_single_exogenous()` method *(or `add_multiple_exogenous()` in case of multiple exogenous techniques)* and pass the DBPediaMappingTechnique object:\n",
    "\n",
    "*   The **first parameter** is the entity type of every content (*dbo:Film* in this case). Multiple prefixes such as `rdf`, `rdfs`, `foaf`, `dbo` are imported by default, but if you need another type of entity you can pass its uri directly\\\n",
    "`\n",
    "'dbo:Film' <-EQUIVALENT-> '<http://dbpedia.org/ontology/Film>'\n",
    "`\n",
    "*   The **second parameter** is the field in the raw source which must exactly match the string representation of the *rdfs:label* of the content on DBPedia"
   ]
  },
  {
   "cell_type": "code",
   "execution_count": 9,
   "metadata": {
    "id": "YA8GfrkrqJ4S"
   },
   "outputs": [],
   "source": [
    "movies_ca_config.add_single_exogenous(\n",
    "    ca.ExogenousConfig(ca.DBPediaMappingTechnique('dbo:Film', 'dbpedia_label', max_timeout=8),\n",
    "                       id='dbpedia')\n",
    ")\n",
    "\n",
    "# in case max retries is reached multiple times\n",
    "\n",
    "# movies_ca_config.add_single_exogenous(\n",
    "#     ca.ExogenousConfig(ca.PropertiesFromDataset(field_name_list=[\"directors\", \"year\",\n",
    "#                                                                  \"rating\", \"genres\"]),\n",
    "#                        id='local')\n",
    "# )"
   ]
  },
  {
   "cell_type": "markdown",
   "metadata": {
    "id": "0e24qhQVkXIc"
   },
   "source": [
    "At the end of the configuration step, we provide the configuration to the *'Content Analyzer'* and call the `fit()` method:\n",
    "\n",
    "*   The Content Analyzer will **represent** and **serialize** every item.\n",
    "\n"
   ]
  },
  {
   "cell_type": "code",
   "execution_count": 10,
   "metadata": {
    "colab": {
     "base_uri": "https://localhost:8080/"
    },
    "id": "yXU-Vuw2twuN",
    "outputId": "8240be51-c878-49ad-a5a8-e37fbbfc6610"
   },
   "outputs": [
    {
     "output_type": "stream",
     "name": "stderr",
     "text": [
      "\u001B[39mINFO\u001B[0m - Extracting exogenous properties from DBPedia\n",
      "\u001B[39mINFO\u001B[0m - Contents mapped so far: 612 of 1682 (ideal, tipically less are mapped)\n",
      "\u001B[39mINFO\u001B[0m - Contents mapped so far: 741 of 1682 (ideal, tipically less are mapped)\n",
      "\u001B[39mINFO\u001B[0m - Contents mapped so far: 910 of 1682 (ideal, tipically less are mapped)\n",
      "\u001B[33mWARNING\u001B[0m - Timeout occurred! - 1 out of 8 possible \n",
      "The timeout counter will be reset as soon as the request goes through\n",
      "\u001B[33mWARNING\u001B[0m - Timeout occurred! - 2 out of 8 possible \n",
      "The timeout counter will be reset as soon as the request goes through\n",
      "\u001B[33mWARNING\u001B[0m - Timeout occurred! - 3 out of 8 possible \n",
      "The timeout counter will be reset as soon as the request goes through\n",
      "\u001B[33mWARNING\u001B[0m - Timeout occurred! - 4 out of 8 possible \n",
      "The timeout counter will be reset as soon as the request goes through\n",
      "\u001B[39mINFO\u001B[0m - Contents mapped so far: 1058 of 1682 (ideal, tipically less are mapped)\n",
      "\u001B[33mWARNING\u001B[0m - Timeout occurred! - 1 out of 8 possible \n",
      "The timeout counter will be reset as soon as the request goes through\n",
      "\u001B[39mINFO\u001B[0m - Contents mapped so far: 1454 of 1682 (ideal, tipically less are mapped)\n",
      "\u001B[39mINFO\u001B[0m - Contents mapped in total: 1454\n",
      "\u001B[39mINFO\u001B[0m - Extracting properties for mapped contents...\n",
      "Serializing contents:  100%|██████████| 1682/1682 [00:02<00:00]\n"
     ]
    }
   ],
   "source": [
    "# About ~6min are required to query 1682 \n",
    "ca.ContentAnalyzer(config=movies_ca_config).fit()"
   ]
  },
  {
   "cell_type": "markdown",
   "metadata": {
    "id": "H_3ff69ZhFj7"
   },
   "source": [
    "# Content Analyzer: representation of Users\n",
    "In order to define the *'user representation'*, we could use the same process performed for *'item representation'*.\n",
    "\n",
    "In this example, the ID for users is the column `user_id`."
   ]
  },
  {
   "cell_type": "code",
   "execution_count": 11,
   "metadata": {
    "id": "HhwOj4s-uzOk"
   },
   "outputs": [],
   "source": [
    "# Configuration of user representation\n",
    "users_ca_config = ca.UserAnalyzerConfig(\n",
    "    ca.CSVFile('users_info.csv'),\n",
    "    id='user_id',\n",
    "    output_directory='users_codified/',\n",
    ")"
   ]
  },
  {
   "cell_type": "markdown",
   "metadata": {
    "id": "GiXKJI9sZTX1"
   },
   "source": [
    "Also users can be represented with additional exogenous information.\n",
    "\n",
    "`PropertiesFromDataset()` object allows to specify which fields to use in order to expand every user info\n",
    "\n",
    "*   If no field is specified, **all fields** from the raw source will be used\n",
    "\n",
    "> In this case, we expand every user with *gender* and *occupation*"
   ]
  },
  {
   "cell_type": "code",
   "execution_count": 12,
   "metadata": {
    "colab": {
     "base_uri": "https://localhost:8080/"
    },
    "id": "hAFFM6oNZS61",
    "outputId": "bc70f612-ea37-4033-bd95-b04ae87bd75d"
   },
   "outputs": [
    {
     "output_type": "stream",
     "name": "stderr",
     "text": [
      "\u001B[39mINFO\u001B[0m - Extracting exogenous properties from local dataset\n",
      "Serializing contents:  100%|██████████| 943/943 [00:01<00:00]\n"
     ]
    }
   ],
   "source": [
    "users_ca_config.add_single_exogenous(\n",
    "    ca.ExogenousConfig(ca.PropertiesFromDataset(field_name_list=['gender', 'occupation']))\n",
    ")\n",
    "\n",
    "# Call the fit() method to create and serialize every user\n",
    "ca.ContentAnalyzer(config=users_ca_config).fit()"
   ]
  },
  {
   "cell_type": "markdown",
   "metadata": {
    "id": "dr0qljcRhpW6"
   },
   "source": [
    "# Recommender System: Pagerank "
   ]
  },
  {
   "cell_type": "markdown",
   "metadata": {
    "id": "Ms6kU0TEr_ps"
   },
   "source": [
    "The Recommender System module needs information about users, items and ratings. \n",
    "\n",
    "The **Ratings** class allows you to import rating from a source file (or also from an existent dataframe) into a custom object.   **If** the source file contains users (U), items (I) and ratings (R) in this order, no additional parameters are needed, **otherwise**  the mapping must be explictly specified using:\n",
    "\n",
    "*   **'user_id'** column,\n",
    "*   **'item_id'** column,\n",
    "*   **'score'** column\n",
    "\n",
    "\n",
    "\n"
   ]
  },
  {
   "cell_type": "code",
   "execution_count": 13,
   "metadata": {
    "colab": {
     "base_uri": "https://localhost:8080/"
    },
    "id": "XjxZ9yTnvVW-",
    "outputId": "35713463-80b3-480d-9753-b32382931d0a"
   },
   "outputs": [
    {
     "output_type": "stream",
     "name": "stderr",
     "text": [
      "Importing ratings:  100%|██████████| 100000/100000 [00:00<00:00]\n"
     ]
    },
    {
     "output_type": "stream",
     "name": "stdout",
     "text": [
      "      user_id item_id  score\n",
      "0         196     242    3.0\n",
      "1         196     393    4.0\n",
      "2         196     381    4.0\n",
      "3         196     251    3.0\n",
      "4         196     655    5.0\n",
      "...       ...     ...    ...\n",
      "99995     941     919    5.0\n",
      "99996     941     273    3.0\n",
      "99997     941       1    5.0\n",
      "99998     941     294    4.0\n",
      "99999     941    1007    4.0\n",
      "\n",
      "[100000 rows x 3 columns]\n"
     ]
    }
   ],
   "source": [
    "ratings = ca.Ratings(ca.CSVFile('ratings.csv'))\n",
    "\n",
    "print(ratings)"
   ]
  },
  {
   "cell_type": "code",
   "execution_count": 14,
   "metadata": {
    "id": "1SfXQx4y01u7"
   },
   "outputs": [],
   "source": [
    "# (mapping by index) EQUIVALENT:\n",
    "#\n",
    "# ratings = ca.Ratings(\n",
    "#     ca.CSVFile('ratings.csv'),\n",
    "#     user_id_column=0,\n",
    "#     item_id_column=1,\n",
    "#     score_column=2\n",
    "# )\n",
    "#\n",
    "# print(ratings)"
   ]
  },
  {
   "cell_type": "code",
   "execution_count": 15,
   "metadata": {
    "id": "Ww9kKa3608pK"
   },
   "outputs": [],
   "source": [
    "# (mapping by column name) EQUIVALENT:\n",
    "\n",
    "# ratings = ca.Ratings(\n",
    "#     ca.CSVFile('ratings.csv'),\n",
    "#     user_id_column='user_id',\n",
    "#     item_id_column='item_id',\n",
    "#     score_column='rating'\n",
    "# )\n",
    "#\n",
    "# print(ratings)"
   ]
  },
  {
   "cell_type": "markdown",
   "metadata": {
    "id": "lfwhYnzxLZT2"
   },
   "source": [
    "Ratings imported are used to create a **Full Graph** where property nodes (e.g. *gender* for users, *budget* for movies) can be linked to every node without any restriction\n",
    "\n",
    "> The framework also allows to create a **Bipartite Graph** (a graph without property node) and a **Tripartite Graph** (where property nodes are only linked to item nodes)\n",
    "\n",
    "In order to load properties in the graph, we must specify where users and items are serialized and ***which properties to add*** (the following is the same for *item_exo_properties*):\n",
    "\n",
    "*   If *user_exo_properties* is specified as a **set**, then the graph will try to load **all properties** from **said exogenous representation**\n",
    "```python\n",
    "# example\n",
    "{'my_exo_id'}\n",
    "```\n",
    "\n",
    "*   If *user_exo_properties* is specified as a **dict**, then the graph will try to load **said properties** from **said exogenous representation**\n",
    "```python\n",
    "# example\n",
    "{'my_exo_id': ['my_prop1', 'my_prop2']]}\n",
    "```\n",
    "\n",
    "Let's now create the graph loading all properties from the exogenous representations we created earlier:"
   ]
  },
  {
   "cell_type": "code",
   "execution_count": 16,
   "metadata": {
    "colab": {
     "base_uri": "https://localhost:8080/"
    },
    "id": "LMEAT-6NBvuB",
    "outputId": "550fe2ae-0c85-4965-ff28-d865f24c11b7"
   },
   "outputs": [
    {
     "output_type": "stream",
     "name": "stderr",
     "text": [
      "Creating User->Item links:  100%|██████████| 100000/100000 [00:01<00:00]\n",
      "\u001B[39mINFO\u001B[0m - Loading contents from disk...\n",
      "Creating Node->Properties links:  100%|██████████| 1682/1682 [00:00<00:00]\n",
      "\u001B[39mINFO\u001B[0m - Loading contents from disk...\n",
      "Creating Node->Properties links:  100%|██████████| 943/943 [00:00<00:00]\n"
     ]
    }
   ],
   "source": [
    "full_graph = rs.NXFullGraph(ratings, \n",
    "                            user_contents_dir='users_codified/',\n",
    "                            item_contents_dir='movies_codified/',\n",
    "                            user_exo_properties={0},  # Since no custom id given\n",
    "                            item_exo_properties={0},  # equivalent 'dbpedia' (or 'local')\n",
    "                            link_label='score')"
   ]
  },
  {
   "cell_type": "markdown",
   "metadata": {
    "id": "Ex2Hh_7ORCjg"
   },
   "source": [
    "The underlying implementation of graphs in the framework uses the **networkx** library: so let's use its methods to draw a subgraph, just to make sure the graph has been created\n",
    "\n",
    "\n",
    "> We draw the *interaction* between **user 308** and **Item 1** (Toy Story), as well as the *occupation* and *gender* properties of the user and the *runtime* property of the item\n",
    "\n"
   ]
  },
  {
   "cell_type": "code",
   "execution_count": 18,
   "metadata": {
    "colab": {
     "base_uri": "https://localhost:8080/",
     "height": 607
    },
    "id": "69YOJeT-mb0o",
    "outputId": "a0f21bb8-cf24-479c-c7fa-4625d8e98b61"
   },
   "outputs": [
    {
     "output_type": "display_data",
     "data": {
      "text/plain": [
       "<Figure size 576x576 with 1 Axes>"
      ],
      "image/png": "[encoded data removed]"
     },
     "metadata": {}
    }
   ],
   "source": [
    "import networkx as nx\n",
    "import matplotlib.pyplot as plt\n",
    "\n",
    "# convert graph to networkx\n",
    "networkx_graph = full_graph.to_networkx()\n",
    "\n",
    "plt.figure(3,figsize=(8,8)) \n",
    "H = nx.subgraph(networkx_graph, [rs.ItemNode(\"1\"), rs.PropertyNode(\"81.0\"),\n",
    "                                 rs.UserNode(\"308\"), rs.PropertyNode(\"retired\"),\n",
    "                                 rs.PropertyNode(\"M\")])\n",
    "\n",
    "# use this if you didn't extract props from dbpedia\n",
    "#\n",
    "# H = nx.subgraph(networkx_graph, [rs.ItemNode(\"1\"), rs.PropertyNode(\"John Lasseter\"),\n",
    "#                                  rs.UserNode(\"308\"), rs.PropertyNode(\"retired\"),\n",
    "#                                  rs.PropertyNode(\"M\")])\n",
    "\n",
    "pos = nx.planar_layout(H)\n",
    "\n",
    "nx.draw(H, with_labels=True, font_weight='light', node_color='lightblue', node_size=2500, pos=pos)\n",
    "\n",
    "edge_labels = dict([((n1, n2), (d['label'], d.get('weight')))\n",
    "                    for n1, n2, d in H.edges(data=True)])\n",
    "\n",
    "nx.draw_networkx_edge_labels(H, pos, edge_labels=edge_labels,\n",
    "                             font_color='red', font_size=12, font_weight='normal')\n",
    "\n",
    "plt.show()"
   ]
  },
  {
   "cell_type": "markdown",
   "metadata": {
    "id": "hCoGsQMECMBV"
   },
   "source": [
    "As you can see each link between nodes has two *attributes* wrapped in a tuple:\n",
    "* The first element is the ***label*** of the link\n",
    "* The second element is the ***weight*** of the link\n",
    "\n",
    "In our case only links between users and items have a weight associated to them\n",
    "* This behaviour can be easily modified when adding new links"
   ]
  },
  {
   "cell_type": "markdown",
   "metadata": {
    "id": "O9dYu-H9uUa5"
   },
   "source": [
    "The Recommender System also needs an algorithm for ranking or predicting items to users. In the following example we use the **PageRank** algorithm.\n"
   ]
  },
  {
   "cell_type": "code",
   "execution_count": 19,
   "metadata": {
    "id": "GbblAapgmOL6"
   },
   "outputs": [],
   "source": [
    "pr = rs.NXPageRank()"
   ]
  },
  {
   "cell_type": "markdown",
   "metadata": {
    "id": "E_AMiwJtHzKQ"
   },
   "source": [
    "Before we can instantiate the recommender system, we should split the original dataset. So let's perform the **HoldOut** method:\n",
    "*   The output of the partition module are two lists. One containing one train set (in this case), the other containing one test set (in this case)"
   ]
  },
  {
   "cell_type": "code",
   "execution_count": 20,
   "metadata": {
    "colab": {
     "base_uri": "https://localhost:8080/"
    },
    "id": "HnnQpU9tlblf",
    "outputId": "9d7fadb0-f010-49e1-b430-8beb34c6f4f9"
   },
   "outputs": [
    {
     "output_type": "stream",
     "name": "stderr",
     "text": [
      "Performing HoldOutPartitioning:  100%|██████████| 943/943 [00:00<00:00]\n"
     ]
    }
   ],
   "source": [
    "# by default train_set_size = 0.8\n",
    "[train_set], [test_set] = rs.HoldOutPartitioning(random_state=24).split_all(ratings)"
   ]
  },
  {
   "cell_type": "markdown",
   "source": [
    "Then, in order to not influence the recommendation process, we remove from the graph each link (interaction) that appears in the test set\n",
    "\n",
    "* We do not build the graph directly from the train set because otherwise we can't recommend items that appear in the test set but do not appear in the train set!"
   ],
   "metadata": {
    "collapsed": false,
    "id": "cUhX4qb4rYYt"
   }
  },
  {
   "cell_type": "code",
   "execution_count": 21,
   "metadata": {
    "id": "fPo4vVb4rYYt"
   },
   "outputs": [],
   "source": [
    "for interaction in test_set:\n",
    "\n",
    "    user_node = rs.UserNode(interaction.user_id)\n",
    "    item_node = rs.ItemNode(interaction.item_id)\n",
    "\n",
    "    full_graph.remove_link(user_node, item_node)"
   ]
  },
  {
   "cell_type": "markdown",
   "source": [
    "The Graph Based Recommender System only needs the recommendation algorithm and the graph. No contents directory is required."
   ],
   "metadata": {
    "collapsed": false,
    "id": "SFwTUyJ3rYYt"
   }
  },
  {
   "cell_type": "code",
   "execution_count": 22,
   "outputs": [],
   "source": [
    "gbrs = rs.GraphBasedRS(pr, full_graph)"
   ],
   "metadata": {
    "id": "b-ZL18_ZrYYt"
   }
  },
  {
   "cell_type": "markdown",
   "source": [
    "It is possible to provide recommendations as a ranked list for a single user:"
   ],
   "metadata": {
    "collapsed": false,
    "id": "qcRVr6JVrYYu"
   }
  },
  {
   "cell_type": "code",
   "execution_count": 23,
   "outputs": [
    {
     "output_type": "stream",
     "name": "stderr",
     "text": [
      "Computing rank for user 3:  100%|██████████| 1/1 [00:00<00:00]"
     ]
    },
    {
     "output_type": "stream",
     "name": "stdout",
     "text": [
      "  user_id item_id     score\n",
      "0       3     300  0.000561\n",
      "1       3     181  0.000498\n",
      "2       3     328  0.000411\n"
     ]
    },
    {
     "output_type": "stream",
     "name": "stderr",
     "text": [
      "\n"
     ]
    }
   ],
   "source": [
    "rank = gbrs.rank(test_set, user_id_list=['3'], n_recs=3)\n",
    "\n",
    "print(rank)"
   ],
   "metadata": {
    "colab": {
     "base_uri": "https://localhost:8080/"
    },
    "id": "Acz500VZrYYu",
    "outputId": "d42a7141-6dc0-4e98-8e7e-5956530b6b54"
   }
  },
  {
   "cell_type": "markdown",
   "source": [
    "It is also possible to provide recommendations for a list of users:"
   ],
   "metadata": {
    "collapsed": false,
    "id": "NjsVhAxLrYYu"
   }
  },
  {
   "cell_type": "code",
   "execution_count": 24,
   "outputs": [
    {
     "output_type": "stream",
     "name": "stderr",
     "text": [
      "Computing rank for user 8:  100%|██████████| 3/3 [00:00<00:00]"
     ]
    },
    {
     "output_type": "stream",
     "name": "stdout",
     "text": [
      "  user_id item_id     score\n",
      "0       1      50  0.000669\n",
      "1       1     269  0.000516\n",
      "2       1     181  0.000498\n",
      "3       2      50  0.000669\n",
      "4       2       1  0.000466\n",
      "5       2     237  0.000384\n",
      "6       8     258  0.000695\n",
      "7       8     172  0.000320\n",
      "8       8      79  0.000266\n"
     ]
    },
    {
     "output_type": "stream",
     "name": "stderr",
     "text": [
      "\n"
     ]
    }
   ],
   "source": [
    "multiple_rank = gbrs.rank(test_set, user_id_list=['8', '2', '1'], n_recs=3)\n",
    "\n",
    "print(multiple_rank)"
   ],
   "metadata": {
    "colab": {
     "base_uri": "https://localhost:8080/"
    },
    "id": "sKdc5wH6rYYu",
    "outputId": "f979908f-2049-4251-8561-5db56ca4d23d"
   }
  },
  {
   "cell_type": "markdown",
   "source": [
    "Let's compute now recommendations for all users of the test set:"
   ],
   "metadata": {
    "collapsed": false,
    "id": "1hF3Q5wArYYu"
   }
  },
  {
   "cell_type": "code",
   "execution_count": 25,
   "metadata": {
    "colab": {
     "base_uri": "https://localhost:8080/"
    },
    "id": "O9WQOI21rYYv",
    "outputId": "0e654f36-c8e4-4e27-a3df-a0a904711337"
   },
   "outputs": [
    {
     "output_type": "stream",
     "name": "stderr",
     "text": [
      "Computing rank for user 312:  100%|██████████| 943/943 [00:17<00:00]\n"
     ]
    }
   ],
   "source": [
    "gbrs = rs.GraphBasedRS(pr, full_graph)\n",
    "\n",
    "# n_recs=None will return rank score for all unrated items for each\n",
    "# user (depending on the specific methodology)\n",
    "rank = gbrs.rank(test_set, n_recs=None)"
   ]
  },
  {
   "cell_type": "markdown",
   "metadata": {
    "id": "wBeOgvjY2ECV"
   },
   "source": [
    "# Evaluation module\n",
    "\n",
    "Recommendations can be evaluated using several metrics. In the following example, we use:\n",
    "\n",
    "*   ***RPrecision***\n",
    "*   ***MRR***\n",
    "*   ***Gini Index***\n",
    "*   ***Long Tail Distribution***\n",
    "*   ***Prediction coverage***"
   ]
  },
  {
   "cell_type": "markdown",
   "metadata": {
    "id": "sDYYVUWM2hZi"
   },
   "source": [
    "The Evaluation module needs the following parameters:\n",
    "\n",
    "*   A list of computed rank/predictions (in case multiple splits must be evaluated)\n",
    "*   A list of truths (in case multiple splits must be evaluated)\n",
    "*   List of metrics to compute\n",
    "\n",
    "Obviously the list of computed rank/predictions and list of truths must have the same length, and the rank/prediction in position $i$ will be compared with the truth at position $i$"
   ]
  },
  {
   "cell_type": "code",
   "execution_count": 26,
   "metadata": {
    "id": "C2UuLx9fphCb"
   },
   "outputs": [],
   "source": [
    "# we consider as the entire catalog every item that has\n",
    "# been rated at least once by someone\n",
    "catalog = set(ratings.item_id_column)\n",
    "\n",
    "em = eva.EvalModel(\n",
    "    [rank],\n",
    "    [test_set],\n",
    "    metric_list=[\n",
    "        eva.RPrecision(),\n",
    "        eva.MRR(),\n",
    "        eva.GiniIndex(),\n",
    "        eva.LongTailDistr(out_dir=\"guided_example\"),\n",
    "        eva.PredictionCoverage(catalog)\n",
    "    ]\n",
    ")"
   ]
  },
  {
   "cell_type": "markdown",
   "metadata": {
    "id": "XoFTI1T83TVV"
   },
   "source": [
    "The fit() method returns two pandas DataFrame: the first one contains the metrics aggregated for the system, while the second contains the metrics computed for each user (where possible)"
   ]
  },
  {
   "cell_type": "code",
   "execution_count": 27,
   "metadata": {
    "colab": {
     "base_uri": "https://localhost:8080/"
    },
    "id": "o9QXMFl02iDK",
    "outputId": "018f004a-1945-4149-9fc1-ab6f2c528f31"
   },
   "outputs": [
    {
     "output_type": "stream",
     "name": "stderr",
     "text": [
      "\u001B[39mINFO\u001B[0m - Performing evaluation on metrics chosen\n",
      "Performing PredictionCoverage:  100%|██████████| 5/5 [00:00<00:00]\n"
     ]
    }
   ],
   "source": [
    "sys_result, users_result = em.fit()"
   ]
  },
  {
   "cell_type": "code",
   "execution_count": 28,
   "metadata": {
    "colab": {
     "base_uri": "https://localhost:8080/",
     "height": 143
    },
    "id": "yIpALBnr4Azi",
    "outputId": "a35d66ca-27d8-4ebf-9584-bff5ed6acb9e"
   },
   "outputs": [
    {
     "output_type": "execute_result",
     "data": {
      "text/plain": [
       "             R-Precision - macro       MRR      Gini  PredictionCoverage\n",
       "user_id                                                                 \n",
       "sys - fold1             0.611958  0.798925  0.570866               83.71\n",
       "sys - mean              0.611958  0.798925  0.570866               83.71"
      ],
      "text/html": [
       "\n",
       "  <div id=\"df-e3c2ab20-5d7f-4584-9719-cb859bdf8ca0\">\n",
       "    <div class=\"colab-df-container\">\n",
       "      <div>\n",
       "<style scoped>\n",
       "    .dataframe tbody tr th:only-of-type {\n",
       "        vertical-align: middle;\n",
       "    }\n",
       "\n",
       "    .dataframe tbody tr th {\n",
       "        vertical-align: top;\n",
       "    }\n",
       "\n",
       "    .dataframe thead th {\n",
       "        text-align: right;\n",
       "    }\n",
       "</style>\n",
       "<table border=\"1\" class=\"dataframe\">\n",
       "  <thead>\n",
       "    <tr style=\"text-align: right;\">\n",
       "      <th></th>\n",
       "      <th>R-Precision - macro</th>\n",
       "      <th>MRR</th>\n",
       "      <th>Gini</th>\n",
       "      <th>PredictionCoverage</th>\n",
       "    </tr>\n",
       "    <tr>\n",
       "      <th>user_id</th>\n",
       "      <th></th>\n",
       "      <th></th>\n",
       "      <th></th>\n",
       "      <th></th>\n",
       "    </tr>\n",
       "  </thead>\n",
       "  <tbody>\n",
       "    <tr>\n",
       "      <th>sys - fold1</th>\n",
       "      <td>0.611958</td>\n",
       "      <td>0.798925</td>\n",
       "      <td>0.570866</td>\n",
       "      <td>83.71</td>\n",
       "    </tr>\n",
       "    <tr>\n",
       "      <th>sys - mean</th>\n",
       "      <td>0.611958</td>\n",
       "      <td>0.798925</td>\n",
       "      <td>0.570866</td>\n",
       "      <td>83.71</td>\n",
       "    </tr>\n",
       "  </tbody>\n",
       "</table>\n",
       "</div>\n",
       "      <button class=\"colab-df-convert\" onclick=\"convertToInteractive('df-e3c2ab20-5d7f-4584-9719-cb859bdf8ca0')\"\n",
       "              title=\"Convert this dataframe to an interactive table.\"\n",
       "              style=\"display:none;\">\n",
       "        \n",
       "  <svg xmlns=\"http://www.w3.org/2000/svg\" height=\"24px\"viewBox=\"0 0 24 24\"\n",
       "       width=\"24px\">\n",
       "    <path d=\"M0 0h24v24H0V0z\" fill=\"none\"/>\n",
       "    <path d=\"M18.56 5.44l.94 2.06.94-2.06 2.06-.94-2.06-.94-.94-2.06-.94 2.06-2.06.94zm-11 1L8.5 8.5l.94-2.06 2.06-.94-2.06-.94L8.5 2.5l-.94 2.06-2.06.94zm10 10l.94 2.06.94-2.06 2.06-.94-2.06-.94-.94-2.06-.94 2.06-2.06.94z\"/><path d=\"M17.41 7.96l-1.37-1.37c-.4-.4-.92-.59-1.43-.59-.52 0-1.04.2-1.43.59L10.3 9.45l-7.72 7.72c-.78.78-.78 2.05 0 2.83L4 21.41c.39.39.9.59 1.41.59.51 0 1.02-.2 1.41-.59l7.78-7.78 2.81-2.81c.8-.78.8-2.07 0-2.86zM5.41 20L4 18.59l7.72-7.72 1.47 1.35L5.41 20z\"/>\n",
       "  </svg>\n",
       "      </button>\n",
       "      \n",
       "  <style>\n",
       "    .colab-df-container {\n",
       "      display:flex;\n",
       "      flex-wrap:wrap;\n",
       "      gap: 12px;\n",
       "    }\n",
       "\n",
       "    .colab-df-convert {\n",
       "      background-color: #E8F0FE;\n",
       "      border: none;\n",
       "      border-radius: 50%;\n",
       "      cursor: pointer;\n",
       "      display: none;\n",
       "      fill: #1967D2;\n",
       "      height: 32px;\n",
       "      padding: 0 0 0 0;\n",
       "      width: 32px;\n",
       "    }\n",
       "\n",
       "    .colab-df-convert:hover {\n",
       "      background-color: #E2EBFA;\n",
       "      box-shadow: 0px 1px 2px rgba(60, 64, 67, 0.3), 0px 1px 3px 1px rgba(60, 64, 67, 0.15);\n",
       "      fill: #174EA6;\n",
       "    }\n",
       "\n",
       "    [theme=dark] .colab-df-convert {\n",
       "      background-color: #3B4455;\n",
       "      fill: #D2E3FC;\n",
       "    }\n",
       "\n",
       "    [theme=dark] .colab-df-convert:hover {\n",
       "      background-color: #434B5C;\n",
       "      box-shadow: 0px 1px 3px 1px rgba(0, 0, 0, 0.15);\n",
       "      filter: drop-shadow(0px 1px 2px rgba(0, 0, 0, 0.3));\n",
       "      fill: #FFFFFF;\n",
       "    }\n",
       "  </style>\n",
       "\n",
       "      <script>\n",
       "        const buttonEl =\n",
       "          document.querySelector('#df-e3c2ab20-5d7f-4584-9719-cb859bdf8ca0 button.colab-df-convert');\n",
       "        buttonEl.style.display =\n",
       "          google.colab.kernel.accessAllowed ? 'block' : 'none';\n",
       "\n",
       "        async function convertToInteractive(key) {\n",
       "          const element = document.querySelector('#df-e3c2ab20-5d7f-4584-9719-cb859bdf8ca0');\n",
       "          const dataTable =\n",
       "            await google.colab.kernel.invokeFunction('convertToInteractive',\n",
       "                                                     [key], {});\n",
       "          if (!dataTable) return;\n",
       "\n",
       "          const docLinkHtml = 'Like what you see? Visit the ' +\n",
       "            '<a target=\"_blank\" href=https://colab.research.google.com/notebooks/data_table.ipynb>data table notebook</a>'\n",
       "            + ' to learn more about interactive tables.';\n",
       "          element.innerHTML = '';\n",
       "          dataTable['output_type'] = 'display_data';\n",
       "          await google.colab.output.renderOutput(dataTable, element);\n",
       "          const docLink = document.createElement('div');\n",
       "          docLink.innerHTML = docLinkHtml;\n",
       "          element.appendChild(docLink);\n",
       "        }\n",
       "      </script>\n",
       "    </div>\n",
       "  </div>\n",
       "  "
      ]
     },
     "metadata": {},
     "execution_count": 28
    }
   ],
   "source": [
    "sys_result"
   ]
  },
  {
   "cell_type": "code",
   "execution_count": 29,
   "metadata": {
    "colab": {
     "base_uri": "https://localhost:8080/",
     "height": 455
    },
    "id": "R_-unvKt4BzC",
    "outputId": "f8428f6c-4982-44b6-bb6c-640ba173020a"
   },
   "outputs": [
    {
     "output_type": "execute_result",
     "data": {
      "text/plain": [
       "         R-Precision - macro\n",
       "user_id                     \n",
       "1                   0.696970\n",
       "10                  0.529412\n",
       "100                 0.600000\n",
       "101                 0.888889\n",
       "102                 0.653846\n",
       "...                      ...\n",
       "95                  0.560000\n",
       "96                  0.400000\n",
       "97                  0.777778\n",
       "98                  0.750000\n",
       "99                  0.800000\n",
       "\n",
       "[943 rows x 1 columns]"
      ],
      "text/html": [
       "\n",
       "  <div id=\"df-1cb661db-3dcb-492c-b6fd-7e51f36d3e81\">\n",
       "    <div class=\"colab-df-container\">\n",
       "      <div>\n",
       "<style scoped>\n",
       "    .dataframe tbody tr th:only-of-type {\n",
       "        vertical-align: middle;\n",
       "    }\n",
       "\n",
       "    .dataframe tbody tr th {\n",
       "        vertical-align: top;\n",
       "    }\n",
       "\n",
       "    .dataframe thead th {\n",
       "        text-align: right;\n",
       "    }\n",
       "</style>\n",
       "<table border=\"1\" class=\"dataframe\">\n",
       "  <thead>\n",
       "    <tr style=\"text-align: right;\">\n",
       "      <th></th>\n",
       "      <th>R-Precision - macro</th>\n",
       "    </tr>\n",
       "    <tr>\n",
       "      <th>user_id</th>\n",
       "      <th></th>\n",
       "    </tr>\n",
       "  </thead>\n",
       "  <tbody>\n",
       "    <tr>\n",
       "      <th>1</th>\n",
       "      <td>0.696970</td>\n",
       "    </tr>\n",
       "    <tr>\n",
       "      <th>10</th>\n",
       "      <td>0.529412</td>\n",
       "    </tr>\n",
       "    <tr>\n",
       "      <th>100</th>\n",
       "      <td>0.600000</td>\n",
       "    </tr>\n",
       "    <tr>\n",
       "      <th>101</th>\n",
       "      <td>0.888889</td>\n",
       "    </tr>\n",
       "    <tr>\n",
       "      <th>102</th>\n",
       "      <td>0.653846</td>\n",
       "    </tr>\n",
       "    <tr>\n",
       "      <th>...</th>\n",
       "      <td>...</td>\n",
       "    </tr>\n",
       "    <tr>\n",
       "      <th>95</th>\n",
       "      <td>0.560000</td>\n",
       "    </tr>\n",
       "    <tr>\n",
       "      <th>96</th>\n",
       "      <td>0.400000</td>\n",
       "    </tr>\n",
       "    <tr>\n",
       "      <th>97</th>\n",
       "      <td>0.777778</td>\n",
       "    </tr>\n",
       "    <tr>\n",
       "      <th>98</th>\n",
       "      <td>0.750000</td>\n",
       "    </tr>\n",
       "    <tr>\n",
       "      <th>99</th>\n",
       "      <td>0.800000</td>\n",
       "    </tr>\n",
       "  </tbody>\n",
       "</table>\n",
       "<p>943 rows × 1 columns</p>\n",
       "</div>\n",
       "      <button class=\"colab-df-convert\" onclick=\"convertToInteractive('df-1cb661db-3dcb-492c-b6fd-7e51f36d3e81')\"\n",
       "              title=\"Convert this dataframe to an interactive table.\"\n",
       "              style=\"display:none;\">\n",
       "        \n",
       "  <svg xmlns=\"http://www.w3.org/2000/svg\" height=\"24px\"viewBox=\"0 0 24 24\"\n",
       "       width=\"24px\">\n",
       "    <path d=\"M0 0h24v24H0V0z\" fill=\"none\"/>\n",
       "    <path d=\"M18.56 5.44l.94 2.06.94-2.06 2.06-.94-2.06-.94-.94-2.06-.94 2.06-2.06.94zm-11 1L8.5 8.5l.94-2.06 2.06-.94-2.06-.94L8.5 2.5l-.94 2.06-2.06.94zm10 10l.94 2.06.94-2.06 2.06-.94-2.06-.94-.94-2.06-.94 2.06-2.06.94z\"/><path d=\"M17.41 7.96l-1.37-1.37c-.4-.4-.92-.59-1.43-.59-.52 0-1.04.2-1.43.59L10.3 9.45l-7.72 7.72c-.78.78-.78 2.05 0 2.83L4 21.41c.39.39.9.59 1.41.59.51 0 1.02-.2 1.41-.59l7.78-7.78 2.81-2.81c.8-.78.8-2.07 0-2.86zM5.41 20L4 18.59l7.72-7.72 1.47 1.35L5.41 20z\"/>\n",
       "  </svg>\n",
       "      </button>\n",
       "      \n",
       "  <style>\n",
       "    .colab-df-container {\n",
       "      display:flex;\n",
       "      flex-wrap:wrap;\n",
       "      gap: 12px;\n",
       "    }\n",
       "\n",
       "    .colab-df-convert {\n",
       "      background-color: #E8F0FE;\n",
       "      border: none;\n",
       "      border-radius: 50%;\n",
       "      cursor: pointer;\n",
       "      display: none;\n",
       "      fill: #1967D2;\n",
       "      height: 32px;\n",
       "      padding: 0 0 0 0;\n",
       "      width: 32px;\n",
       "    }\n",
       "\n",
       "    .colab-df-convert:hover {\n",
       "      background-color: #E2EBFA;\n",
       "      box-shadow: 0px 1px 2px rgba(60, 64, 67, 0.3), 0px 1px 3px 1px rgba(60, 64, 67, 0.15);\n",
       "      fill: #174EA6;\n",
       "    }\n",
       "\n",
       "    [theme=dark] .colab-df-convert {\n",
       "      background-color: #3B4455;\n",
       "      fill: #D2E3FC;\n",
       "    }\n",
       "\n",
       "    [theme=dark] .colab-df-convert:hover {\n",
       "      background-color: #434B5C;\n",
       "      box-shadow: 0px 1px 3px 1px rgba(0, 0, 0, 0.15);\n",
       "      filter: drop-shadow(0px 1px 2px rgba(0, 0, 0, 0.3));\n",
       "      fill: #FFFFFF;\n",
       "    }\n",
       "  </style>\n",
       "\n",
       "      <script>\n",
       "        const buttonEl =\n",
       "          document.querySelector('#df-1cb661db-3dcb-492c-b6fd-7e51f36d3e81 button.colab-df-convert');\n",
       "        buttonEl.style.display =\n",
       "          google.colab.kernel.accessAllowed ? 'block' : 'none';\n",
       "\n",
       "        async function convertToInteractive(key) {\n",
       "          const element = document.querySelector('#df-1cb661db-3dcb-492c-b6fd-7e51f36d3e81');\n",
       "          const dataTable =\n",
       "            await google.colab.kernel.invokeFunction('convertToInteractive',\n",
       "                                                     [key], {});\n",
       "          if (!dataTable) return;\n",
       "\n",
       "          const docLinkHtml = 'Like what you see? Visit the ' +\n",
       "            '<a target=\"_blank\" href=https://colab.research.google.com/notebooks/data_table.ipynb>data table notebook</a>'\n",
       "            + ' to learn more about interactive tables.';\n",
       "          element.innerHTML = '';\n",
       "          dataTable['output_type'] = 'display_data';\n",
       "          await google.colab.output.renderOutput(dataTable, element);\n",
       "          const docLink = document.createElement('div');\n",
       "          docLink.innerHTML = docLinkHtml;\n",
       "          element.appendChild(docLink);\n",
       "        }\n",
       "      </script>\n",
       "    </div>\n",
       "  </div>\n",
       "  "
      ]
     },
     "metadata": {},
     "execution_count": 29
    }
   ],
   "source": [
    "users_result"
   ]
  },
  {
   "cell_type": "markdown",
   "metadata": {
    "id": "d9Fo_2BFKHMA"
   },
   "source": [
    "The following chart is generated:"
   ]
  },
  {
   "cell_type": "code",
   "execution_count": 30,
   "metadata": {
    "colab": {
     "base_uri": "https://localhost:8080/",
     "height": 305
    },
    "id": "6vEREXdpJfQ8",
    "outputId": "d82895a3-217c-4988-83bb-3325c78e408d"
   },
   "outputs": [
    {
     "output_type": "execute_result",
     "data": {
      "image/png": "[encoded data removed]",
      "text/plain": [
       "<IPython.core.display.Image object>"
      ]
     },
     "metadata": {},
     "execution_count": 30
    }
   ],
   "source": [
    "from IPython.display import Image\n",
    "Image('guided_example/long_tail_distr_truth.png')"
   ]
  },
  {
   "cell_type": "markdown",
   "source": [
    "# Your turn !\n",
    "\n",
    "Do not overwrite results of each answer and the results of the guided example!\n",
    "* You may need them to answer some of the questions below :)"
   ],
   "metadata": {
    "collapsed": false,
    "id": "XbVdjd-WrYYw"
   }
  },
  {
   "cell_type": "markdown",
   "source": [
    "## PageRank with Train Items methodology\n",
    "\n",
    "1. Compute recommendations with the Page Rank as shown above but using the ***train items methodology***\n",
    "    * Do not limit the number of recommendations per user\n",
    "2. Evaluate recommendations computed in point 1. with the following metrics:\n",
    "    *   ***RPrecision***\n",
    "    *   ***Gini index***\n",
    "    *   ***DeltaGap***\n",
    "    *   ***Prediction coverage***\n",
    "    *   ***Profile vs Recommendations (Popularity comparison)***\n",
    "    *   ***Correlation between Popularity and Recommendation Frequency***\n",
    "3. Compare **RPrecision**, **Gini Index**, **Prediction Coverage** between results obtained in the point 2. and results obtained in the [guided example](#scrollTo=yIpALBnr4Azi) with the TestRatings methodology\n",
    "    * What do we expect?\n",
    "\n",
    "\n",
    "For the **DeltaGap** metric consider the following as user groups:\n",
    "\n",
    "```python\n",
    "user_groups = {'popular': 0.4, 'bb-diverse': 0.4, 'niche': 0.2}\n",
    "```"
   ],
   "metadata": {
    "collapsed": false,
    "id": "a8NrtjarrYYw"
   }
  },
  {
   "cell_type": "markdown",
   "source": [
    "**Info about methodologies:**\n",
    "\n",
    "> For each target user $u$, the following 4 different methodologies are available for defining those lists:\n",
    "> 1.   **TestRatings** (default): the list of items to be evaluated consists of items rated by $u$ in the test set\n",
    "> 2.   **TestItems**: every item in the test set of every user except those in the training set of the target user will be predicted\n",
    "> 3.   **TrainingItems**: every item in the training set of every user will be predicted except those in the training set of the target user\n",
    "> 4.   **AllItems**: the whole set of items, except those in the training set of the target user, will be predicted\n",
    ">\n",
    "> More information on [this paper](https://repositorio.uam.es/bitstream/handle/10486/665121/precision-oriented_bellogin_recsys_2011_ps.pdf;jsessionid=85982302D4DA9FF4DD7F21E4AC4F3391?sequence=1)."
   ],
   "metadata": {
    "collapsed": false,
    "id": "mIbpGNJ3rYYw"
   }
  },
  {
   "cell_type": "markdown",
   "source": [
    "### Answer to 1"
   ],
   "metadata": {
    "collapsed": false,
    "id": "dCO1ClMHrYYx"
   }
  },
  {
   "cell_type": "markdown",
   "source": [
    "### Answer to 2"
   ],
   "metadata": {
    "collapsed": false,
    "id": "Au1lzOUjrYYx"
   }
  },
  {
   "cell_type": "markdown",
   "source": [
    "### Answer to 3"
   ],
   "metadata": {
    "collapsed": false,
    "id": "ACi_EyfArYYy"
   }
  },
  {
   "cell_type": "markdown",
   "source": [
    "## Personalized page rank\n",
    "\n",
    "Compute recommendations with the ***Personalized Page Rank*** with weighting schema *60/20/20* using the *training items methodology* and compare the top-10 ranking for user **1** you obtain with the personalized page rank and the classical page rank of the [previous question](#scrollTo=a8NrtjarrYYw)"
   ],
   "metadata": {
    "collapsed": false,
    "id": "OqAExWZQrYYy"
   }
  },
  {
   "cell_type": "markdown",
   "source": [
    "### Answer"
   ],
   "metadata": {
    "collapsed": false,
    "id": "BRTpcey3rYYz"
   }
  }
 ],
 "metadata": {
  "colab": {
   "provenance": [],
   "collapsed_sections": [
    "dCO1ClMHrYYx",
    "Au1lzOUjrYYx",
    "ACi_EyfArYYy",
    "BRTpcey3rYYz"
   ]
  },
  "kernelspec": {
   "display_name": "Python 3 (ipykernel)",
   "language": "python",
   "name": "python3"
  },
  "language_info": {
   "codemirror_mode": {
    "name": "ipython",
    "version": 3
   },
   "file_extension": ".py",
   "mimetype": "text/x-python",
   "name": "python",
   "nbconvert_exporter": "python",
   "pygments_lexer": "ipython3",
   "version": "3.9.7"
  }
 },
 "nbformat": 4,
 "nbformat_minor": 0
}
