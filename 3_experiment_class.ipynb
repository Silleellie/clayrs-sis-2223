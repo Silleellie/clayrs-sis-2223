{
 "cells": [
  {
   "cell_type": "markdown",
   "source": [
    "# Installation with pip\n",
    "Every dependency needed by the framework will be downloaded and installed automatically"
   ],
   "metadata": {
    "collapsed": false,
    "id": "B3V2PC88jFCo"
   }
  },
  {
   "cell_type": "code",
   "execution_count": null,
   "metadata": {
    "colab": {
     "base_uri": "https://localhost:8080/"
    },
    "id": "_z0TVVHmQ2sU",
    "outputId": "e8d28aaa-4443-40c1-8707-4c194119c3c4"
   },
   "outputs": [
    {
     "output_type": "stream",
     "name": "stdout",
     "text": [
      "Looking in indexes: https://pypi.org/simple, https://us-python.pkg.dev/colab-wheels/public/simple/\n",
      "Collecting clayrs\n",
      "  Downloading clayrs-0.4.0.tar.gz (225 kB)\n",
      "\u001B[K     |████████████████████████████████| 225 kB 12.3 MB/s \n",
      "\u001B[?25h  Installing build dependencies ... \u001B[?25l\u001B[?25hdone\n",
      "  Getting requirements to build wheel ... \u001B[?25l\u001B[?25hdone\n",
      "    Preparing wheel metadata ... \u001B[?25l\u001B[?25hdone\n",
      "Collecting transformers~=4.15.0\n",
      "  Downloading transformers-4.15.0-py3-none-any.whl (3.4 MB)\n",
      "\u001B[K     |████████████████████████████████| 3.4 MB 58.1 MB/s \n",
      "\u001B[?25hCollecting distex~=0.7.1\n",
      "  Downloading distex-0.7.2-py3-none-any.whl (19 kB)\n",
      "Collecting wn~=0.0.23\n",
      "  Downloading wn-0.0.23.tar.gz (31.6 MB)\n",
      "\u001B[K     |████████████████████████████████| 31.6 MB 127 kB/s \n",
      "\u001B[?25hCollecting sentence-transformers~=1.2.0\n",
      "  Downloading sentence-transformers-1.2.1.tar.gz (80 kB)\n",
      "\u001B[K     |████████████████████████████████| 80 kB 9.2 MB/s \n",
      "\u001B[?25hRequirement already satisfied: networkx~=2.6.3 in /usr/local/lib/python3.8/dist-packages (from clayrs) (2.6.3)\n",
      "Collecting mysql~=0.0.3\n",
      "  Downloading mysql-0.0.3-py3-none-any.whl (1.2 kB)\n",
      "Requirement already satisfied: scikit-learn==1.0.2 in /usr/local/lib/python3.8/dist-packages (from clayrs) (1.0.2)\n",
      "Collecting mysql-connector-python~=8.0.20\n",
      "  Downloading mysql_connector_python-8.0.31-cp38-cp38-manylinux1_x86_64.whl (23.5 MB)\n",
      "\u001B[K     |████████████████████████████████| 23.5 MB 1.1 MB/s \n",
      "\u001B[?25hCollecting ekphrasis~=0.5.4\n",
      "  Downloading ekphrasis-0.5.4-py3-none-any.whl (83 kB)\n",
      "\u001B[K     |████████████████████████████████| 83 kB 341 kB/s \n",
      "\u001B[?25hRequirement already satisfied: scipy~=1.7.3 in /usr/local/lib/python3.8/dist-packages (from clayrs) (1.7.3)\n",
      "Collecting gensim~=4.1.2\n",
      "  Downloading gensim-4.1.2-cp38-cp38-manylinux_2_12_x86_64.manylinux2010_x86_64.whl (24.1 MB)\n",
      "\u001B[K     |████████████████████████████████| 24.1 MB 1.4 MB/s \n",
      "\u001B[?25hCollecting pyaml~=21.10.1\n",
      "  Downloading pyaml-21.10.1-py2.py3-none-any.whl (24 kB)\n",
      "Collecting colorama~=0.4.4\n",
      "  Downloading colorama-0.4.6-py2.py3-none-any.whl (25 kB)\n",
      "Requirement already satisfied: nltk~=3.5 in /usr/local/lib/python3.8/dist-packages (from clayrs) (3.7)\n",
      "Collecting nest-asyncio~=1.5.5\n",
      "  Downloading nest_asyncio-1.5.6-py3-none-any.whl (5.2 kB)\n",
      "Collecting pandas~=1.2.4\n",
      "  Downloading pandas-1.2.5-cp38-cp38-manylinux_2_5_x86_64.manylinux1_x86_64.whl (9.7 MB)\n",
      "\u001B[K     |████████████████████████████████| 9.7 MB 58.0 MB/s \n",
      "\u001B[?25hCollecting SPARQLWrapper~=1.8.5\n",
      "  Downloading SPARQLWrapper-1.8.5-py3-none-any.whl (26 kB)\n",
      "Collecting spacy~=3.2.1\n",
      "  Downloading spacy-3.2.4-cp38-cp38-manylinux_2_17_x86_64.manylinux2014_x86_64.whl (6.2 MB)\n",
      "\u001B[K     |████████████████████████████████| 6.2 MB 75.1 MB/s \n",
      "\u001B[?25hRequirement already satisfied: numpy~=1.21.6 in /usr/local/lib/python3.8/dist-packages (from clayrs) (1.21.6)\n",
      "Collecting babelpy~=1.0.1\n",
      "  Downloading BabelPy-1.0.1.tar.gz (8.0 kB)\n",
      "Collecting tqdm~=4.62.2\n",
      "  Downloading tqdm-4.62.3-py2.py3-none-any.whl (76 kB)\n",
      "\u001B[K     |████████████████████████████████| 76 kB 5.3 MB/s \n",
      "\u001B[?25hCollecting pywsd~=1.2.4\n",
      "  Downloading pywsd-1.2.5-py3-none-any.whl (26.9 MB)\n",
      "\u001B[K     |████████████████████████████████| 26.9 MB 1.2 MB/s \n",
      "\u001B[?25hRequirement already satisfied: matplotlib~=3.2.2 in /usr/local/lib/python3.8/dist-packages (from clayrs) (3.2.2)\n",
      "Collecting PyYAML~=5.3.1\n",
      "  Downloading PyYAML-5.3.1.tar.gz (269 kB)\n",
      "\u001B[K     |████████████████████████████████| 269 kB 68.5 MB/s \n",
      "\u001B[?25hCollecting torch~=1.11.0\n",
      "  Downloading torch-1.11.0-cp38-cp38-manylinux1_x86_64.whl (750.6 MB)\n",
      "\u001B[K     |████████████████████████████████| 750.6 MB 21 kB/s \n",
      "\u001B[?25hCollecting whoosh~=2.7.4\n",
      "  Downloading Whoosh-2.7.4-py2.py3-none-any.whl (468 kB)\n",
      "\u001B[K     |████████████████████████████████| 468 kB 86.6 MB/s \n",
      "\u001B[?25hRequirement already satisfied: textblob~=0.15.3 in /usr/local/lib/python3.8/dist-packages (from clayrs) (0.15.3)\n",
      "Requirement already satisfied: joblib>=0.11 in /usr/local/lib/python3.8/dist-packages (from scikit-learn==1.0.2->clayrs) (1.2.0)\n",
      "Requirement already satisfied: threadpoolctl>=2.0.0 in /usr/local/lib/python3.8/dist-packages (from scikit-learn==1.0.2->clayrs) (3.1.0)\n",
      "Requirement already satisfied: dill in /usr/local/lib/python3.8/dist-packages (from distex~=0.7.1->clayrs) (0.3.6)\n",
      "Collecting eventkit\n",
      "  Downloading eventkit-1.0.0-py3-none-any.whl (31 kB)\n",
      "Requirement already satisfied: cloudpickle in /usr/local/lib/python3.8/dist-packages (from distex~=0.7.1->clayrs) (1.5.0)\n",
      "Requirement already satisfied: termcolor in /usr/local/lib/python3.8/dist-packages (from ekphrasis~=0.5.4->clayrs) (2.1.1)\n",
      "Collecting ujson\n",
      "  Downloading ujson-5.5.0-cp38-cp38-manylinux_2_17_x86_64.manylinux2014_x86_64.whl (46 kB)\n",
      "\u001B[K     |████████████████████████████████| 46 kB 3.4 MB/s \n",
      "\u001B[?25hCollecting ftfy\n",
      "  Downloading ftfy-6.1.1-py3-none-any.whl (53 kB)\n",
      "\u001B[K     |████████████████████████████████| 53 kB 1.9 MB/s \n",
      "\u001B[?25hRequirement already satisfied: smart-open>=1.8.1 in /usr/local/lib/python3.8/dist-packages (from gensim~=4.1.2->clayrs) (5.2.1)\n",
      "Requirement already satisfied: cycler>=0.10 in /usr/local/lib/python3.8/dist-packages (from matplotlib~=3.2.2->clayrs) (0.11.0)\n",
      "Requirement already satisfied: python-dateutil>=2.1 in /usr/local/lib/python3.8/dist-packages (from matplotlib~=3.2.2->clayrs) (2.8.2)\n",
      "Requirement already satisfied: kiwisolver>=1.0.1 in /usr/local/lib/python3.8/dist-packages (from matplotlib~=3.2.2->clayrs) (1.4.4)\n",
      "Requirement already satisfied: pyparsing!=2.0.4,!=2.1.2,!=2.1.6,>=2.0.1 in /usr/local/lib/python3.8/dist-packages (from matplotlib~=3.2.2->clayrs) (3.0.9)\n",
      "Collecting mysqlclient\n",
      "  Downloading mysqlclient-2.1.1.tar.gz (88 kB)\n",
      "\u001B[K     |████████████████████████████████| 88 kB 7.8 MB/s \n",
      "\u001B[?25hRequirement already satisfied: protobuf<=3.20.1,>=3.11.0 in /usr/local/lib/python3.8/dist-packages (from mysql-connector-python~=8.0.20->clayrs) (3.19.6)\n",
      "Requirement already satisfied: click in /usr/local/lib/python3.8/dist-packages (from nltk~=3.5->clayrs) (7.1.2)\n",
      "Requirement already satisfied: regex>=2021.8.3 in /usr/local/lib/python3.8/dist-packages (from nltk~=3.5->clayrs) (2022.6.2)\n",
      "Requirement already satisfied: pytz>=2017.3 in /usr/local/lib/python3.8/dist-packages (from pandas~=1.2.4->clayrs) (2022.6)\n",
      "Requirement already satisfied: six>=1.5 in /usr/local/lib/python3.8/dist-packages (from python-dateutil>=2.1->matplotlib~=3.2.2->clayrs) (1.15.0)\n",
      "Requirement already satisfied: torchvision in /usr/local/lib/python3.8/dist-packages (from sentence-transformers~=1.2.0->clayrs) (0.13.1+cu113)\n",
      "Collecting sentencepiece\n",
      "  Downloading sentencepiece-0.1.97-cp38-cp38-manylinux_2_17_x86_64.manylinux2014_x86_64.whl (1.3 MB)\n",
      "\u001B[K     |████████████████████████████████| 1.3 MB 66.2 MB/s \n",
      "\u001B[?25hCollecting pydantic!=1.8,!=1.8.1,<1.9.0,>=1.7.4\n",
      "  Downloading pydantic-1.8.2-cp38-cp38-manylinux2014_x86_64.whl (13.7 MB)\n",
      "\u001B[K     |████████████████████████████████| 13.7 MB 62.5 MB/s \n",
      "\u001B[?25hRequirement already satisfied: catalogue<2.1.0,>=2.0.6 in /usr/local/lib/python3.8/dist-packages (from spacy~=3.2.1->clayrs) (2.0.8)\n",
      "Requirement already satisfied: blis<0.8.0,>=0.4.0 in /usr/local/lib/python3.8/dist-packages (from spacy~=3.2.1->clayrs) (0.7.9)\n",
      "Requirement already satisfied: spacy-legacy<3.1.0,>=3.0.8 in /usr/local/lib/python3.8/dist-packages (from spacy~=3.2.1->clayrs) (3.0.10)\n",
      "Requirement already satisfied: setuptools in /usr/local/lib/python3.8/dist-packages (from spacy~=3.2.1->clayrs) (57.4.0)\n",
      "Collecting thinc<8.1.0,>=8.0.12\n",
      "  Downloading thinc-8.0.17-cp38-cp38-manylinux_2_17_x86_64.manylinux2014_x86_64.whl (671 kB)\n",
      "\u001B[K     |████████████████████████████████| 671 kB 63.2 MB/s \n",
      "\u001B[?25hRequirement already satisfied: preshed<3.1.0,>=3.0.2 in /usr/local/lib/python3.8/dist-packages (from spacy~=3.2.1->clayrs) (3.0.8)\n",
      "Collecting typer<0.5.0,>=0.3.0\n",
      "  Downloading typer-0.4.2-py3-none-any.whl (27 kB)\n",
      "Requirement already satisfied: cymem<2.1.0,>=2.0.2 in /usr/local/lib/python3.8/dist-packages (from spacy~=3.2.1->clayrs) (2.0.7)\n",
      "Requirement already satisfied: wasabi<1.1.0,>=0.8.1 in /usr/local/lib/python3.8/dist-packages (from spacy~=3.2.1->clayrs) (0.10.1)\n",
      "Requirement already satisfied: jinja2 in /usr/local/lib/python3.8/dist-packages (from spacy~=3.2.1->clayrs) (2.11.3)\n",
      "Requirement already satisfied: packaging>=20.0 in /usr/local/lib/python3.8/dist-packages (from spacy~=3.2.1->clayrs) (21.3)\n",
      "Requirement already satisfied: requests<3.0.0,>=2.13.0 in /usr/local/lib/python3.8/dist-packages (from spacy~=3.2.1->clayrs) (2.23.0)\n",
      "Requirement already satisfied: spacy-loggers<2.0.0,>=1.0.0 in /usr/local/lib/python3.8/dist-packages (from spacy~=3.2.1->clayrs) (1.0.3)\n",
      "Requirement already satisfied: srsly<3.0.0,>=2.4.1 in /usr/local/lib/python3.8/dist-packages (from spacy~=3.2.1->clayrs) (2.4.5)\n",
      "Requirement already satisfied: langcodes<4.0.0,>=3.2.0 in /usr/local/lib/python3.8/dist-packages (from spacy~=3.2.1->clayrs) (3.3.0)\n",
      "Requirement already satisfied: pathy>=0.3.5 in /usr/local/lib/python3.8/dist-packages (from spacy~=3.2.1->clayrs) (0.9.0)\n",
      "Requirement already satisfied: murmurhash<1.1.0,>=0.28.0 in /usr/local/lib/python3.8/dist-packages (from spacy~=3.2.1->clayrs) (1.0.9)\n",
      "Requirement already satisfied: typing-extensions>=3.7.4.3 in /usr/local/lib/python3.8/dist-packages (from pydantic!=1.8,!=1.8.1,<1.9.0,>=1.7.4->spacy~=3.2.1->clayrs) (4.1.1)\n",
      "Requirement already satisfied: chardet<4,>=3.0.2 in /usr/local/lib/python3.8/dist-packages (from requests<3.0.0,>=2.13.0->spacy~=3.2.1->clayrs) (3.0.4)\n",
      "Requirement already satisfied: idna<3,>=2.5 in /usr/local/lib/python3.8/dist-packages (from requests<3.0.0,>=2.13.0->spacy~=3.2.1->clayrs) (2.10)\n",
      "Requirement already satisfied: certifi>=2017.4.17 in /usr/local/lib/python3.8/dist-packages (from requests<3.0.0,>=2.13.0->spacy~=3.2.1->clayrs) (2022.9.24)\n",
      "Requirement already satisfied: urllib3!=1.25.0,!=1.25.1,<1.26,>=1.21.1 in /usr/local/lib/python3.8/dist-packages (from requests<3.0.0,>=2.13.0->spacy~=3.2.1->clayrs) (1.24.3)\n",
      "Collecting rdflib>=4.0\n",
      "  Downloading rdflib-6.2.0-py3-none-any.whl (500 kB)\n",
      "\u001B[K     |████████████████████████████████| 500 kB 73.7 MB/s \n",
      "\u001B[?25hCollecting isodate\n",
      "  Downloading isodate-0.6.1-py2.py3-none-any.whl (41 kB)\n",
      "\u001B[K     |████████████████████████████████| 41 kB 622 kB/s \n",
      "\u001B[?25hCollecting huggingface-hub<1.0,>=0.1.0\n",
      "  Downloading huggingface_hub-0.11.1-py3-none-any.whl (182 kB)\n",
      "\u001B[K     |████████████████████████████████| 182 kB 72.7 MB/s \n",
      "\u001B[?25hRequirement already satisfied: filelock in /usr/local/lib/python3.8/dist-packages (from transformers~=4.15.0->clayrs) (3.8.0)\n",
      "Collecting sacremoses\n",
      "  Downloading sacremoses-0.0.53.tar.gz (880 kB)\n",
      "\u001B[K     |████████████████████████████████| 880 kB 4.0 MB/s \n",
      "\u001B[?25hCollecting tokenizers<0.11,>=0.10.1\n",
      "  Downloading tokenizers-0.10.3-cp38-cp38-manylinux_2_5_x86_64.manylinux1_x86_64.manylinux_2_12_x86_64.manylinux2010_x86_64.whl (3.3 MB)\n",
      "\u001B[K     |████████████████████████████████| 3.3 MB 68.2 MB/s \n",
      "\u001B[?25hRequirement already satisfied: wcwidth>=0.2.5 in /usr/local/lib/python3.8/dist-packages (from ftfy->ekphrasis~=0.5.4->clayrs) (0.2.5)\n",
      "Requirement already satisfied: MarkupSafe>=0.23 in /usr/local/lib/python3.8/dist-packages (from jinja2->spacy~=3.2.1->clayrs) (2.0.1)\n",
      "Requirement already satisfied: pillow!=8.3.*,>=5.3.0 in /usr/local/lib/python3.8/dist-packages (from torchvision->sentence-transformers~=1.2.0->clayrs) (7.1.2)\n",
      "Collecting torchvision\n",
      "  Downloading torchvision-0.14.0-cp38-cp38-manylinux1_x86_64.whl (24.3 MB)\n",
      "\u001B[K     |████████████████████████████████| 24.3 MB 1.3 MB/s \n",
      "\u001B[?25h  Downloading torchvision-0.13.1-cp38-cp38-manylinux1_x86_64.whl (19.1 MB)\n",
      "\u001B[K     |████████████████████████████████| 19.1 MB 7.8 kB/s \n",
      "\u001B[?25h  Downloading torchvision-0.13.0-cp38-cp38-manylinux1_x86_64.whl (19.1 MB)\n",
      "\u001B[K     |████████████████████████████████| 19.1 MB 654 kB/s \n",
      "\u001B[?25h  Downloading torchvision-0.12.0-cp38-cp38-manylinux1_x86_64.whl (21.0 MB)\n",
      "\u001B[K     |████████████████████████████████| 21.0 MB 1.2 MB/s \n",
      "\u001B[?25hBuilding wheels for collected packages: clayrs, babelpy, wn, PyYAML, sentence-transformers, mysqlclient, sacremoses\n",
      "  Building wheel for clayrs (PEP 517) ... \u001B[?25l\u001B[?25hdone\n",
      "  Created wheel for clayrs: filename=clayrs-0.4.0-py3-none-any.whl size=317900 sha256=ff54b34fd9a9d4de95431f603b85fb9482ed5b05537b5905271e33741b4ae94c\n",
      "  Stored in directory: /root/.cache/pip/wheels/43/23/d3/56025a419c6d0344c2ece14362dff71825322329239ccfabdd\n",
      "  Building wheel for babelpy (setup.py) ... \u001B[?25l\u001B[?25hdone\n",
      "  Created wheel for babelpy: filename=BabelPy-1.0.1-py3-none-any.whl size=9723 sha256=44eb6cadf4212131d0736c54c20291128803f1925a6d28ba2c50a310556c52d5\n",
      "  Stored in directory: /root/.cache/pip/wheels/67/8f/30/b724e0e8f88e79a32dc7358b52397421d71eac263bdb09e39a\n",
      "  Building wheel for wn (setup.py) ... \u001B[?25l\u001B[?25hdone\n",
      "  Created wheel for wn: filename=wn-0.0.23-py3-none-any.whl size=31792926 sha256=6b26fdcddc3ff4df29aaa9c1f4a49b60c14023a96d3cafb354a82c2bbfdab5a7\n",
      "  Stored in directory: /root/.cache/pip/wheels/6b/eb/fe/eb7c7be28c29ee90dd9d6f58c116673d0eb07b2d83dfb72a37\n",
      "  Building wheel for PyYAML (setup.py) ... \u001B[?25l\u001B[?25hdone\n",
      "  Created wheel for PyYAML: filename=PyYAML-5.3.1-cp38-cp38-linux_x86_64.whl size=44634 sha256=318c3ade5417ad5eadbe19316b2e87a651aa19bbf2ee1218d3476df6f8d2eae7\n",
      "  Stored in directory: /root/.cache/pip/wheels/13/90/db/290ab3a34f2ef0b5a0f89235dc2d40fea83e77de84ed2dc05c\n",
      "  Building wheel for sentence-transformers (setup.py) ... \u001B[?25l\u001B[?25hdone\n",
      "  Created wheel for sentence-transformers: filename=sentence_transformers-1.2.1-py3-none-any.whl size=123300 sha256=a8571fd8eb1afd3703ed068b5cabdb67cdb387740501950fee0ced79c71da0f1\n",
      "  Stored in directory: /root/.cache/pip/wheels/92/e0/93/a0f6582848b87b07fa73c0f1fe2f43b6328fd3171fe852f381\n",
      "  Building wheel for mysqlclient (setup.py) ... \u001B[?25l\u001B[?25hdone\n",
      "  Created wheel for mysqlclient: filename=mysqlclient-2.1.1-cp38-cp38-linux_x86_64.whl size=102389 sha256=40e9dc1fd42ee8e38d5ef89463c462ddb5cbc5b565bcf18814766d48d8620e96\n",
      "  Stored in directory: /root/.cache/pip/wheels/5b/e1/84/a6185eaec318899f59a32d393af7729a0719cd93695d71f9a1\n",
      "  Building wheel for sacremoses (setup.py) ... \u001B[?25l\u001B[?25hdone\n",
      "  Created wheel for sacremoses: filename=sacremoses-0.0.53-py3-none-any.whl size=895260 sha256=c8c69de7e73db8c745dca50b5e8aab3788c66182c9377b1336c2b32bc790b23d\n",
      "  Stored in directory: /root/.cache/pip/wheels/82/ab/9b/c15899bf659ba74f623ac776e861cf2eb8608c1825ddec66a4\n",
      "Successfully built clayrs babelpy wn PyYAML sentence-transformers mysqlclient sacremoses\n",
      "Installing collected packages: tqdm, PyYAML, typer, torch, tokenizers, sacremoses, pydantic, isodate, huggingface-hub, wn, ujson, transformers, torchvision, thinc, sentencepiece, rdflib, pandas, mysqlclient, ftfy, eventkit, colorama, whoosh, SPARQLWrapper, spacy, sentence-transformers, pywsd, pyaml, nest-asyncio, mysql-connector-python, mysql, gensim, ekphrasis, distex, babelpy, clayrs\n",
      "  Attempting uninstall: tqdm\n",
      "    Found existing installation: tqdm 4.64.1\n",
      "    Uninstalling tqdm-4.64.1:\n",
      "      Successfully uninstalled tqdm-4.64.1\n",
      "  Attempting uninstall: PyYAML\n",
      "    Found existing installation: PyYAML 6.0\n",
      "    Uninstalling PyYAML-6.0:\n",
      "      Successfully uninstalled PyYAML-6.0\n",
      "  Attempting uninstall: typer\n",
      "    Found existing installation: typer 0.7.0\n",
      "    Uninstalling typer-0.7.0:\n",
      "      Successfully uninstalled typer-0.7.0\n",
      "  Attempting uninstall: torch\n",
      "    Found existing installation: torch 1.12.1+cu113\n",
      "    Uninstalling torch-1.12.1+cu113:\n",
      "      Successfully uninstalled torch-1.12.1+cu113\n",
      "  Attempting uninstall: pydantic\n",
      "    Found existing installation: pydantic 1.10.2\n",
      "    Uninstalling pydantic-1.10.2:\n",
      "      Successfully uninstalled pydantic-1.10.2\n",
      "  Attempting uninstall: torchvision\n",
      "    Found existing installation: torchvision 0.13.1+cu113\n",
      "    Uninstalling torchvision-0.13.1+cu113:\n",
      "      Successfully uninstalled torchvision-0.13.1+cu113\n",
      "  Attempting uninstall: thinc\n",
      "    Found existing installation: thinc 8.1.5\n",
      "    Uninstalling thinc-8.1.5:\n",
      "      Successfully uninstalled thinc-8.1.5\n",
      "  Attempting uninstall: pandas\n",
      "    Found existing installation: pandas 1.3.5\n",
      "    Uninstalling pandas-1.3.5:\n",
      "      Successfully uninstalled pandas-1.3.5\n",
      "  Attempting uninstall: spacy\n",
      "    Found existing installation: spacy 3.4.3\n",
      "    Uninstalling spacy-3.4.3:\n",
      "      Successfully uninstalled spacy-3.4.3\n",
      "  Attempting uninstall: gensim\n",
      "    Found existing installation: gensim 3.6.0\n",
      "    Uninstalling gensim-3.6.0:\n",
      "      Successfully uninstalled gensim-3.6.0\n",
      "\u001B[31mERROR: pip's dependency resolver does not currently take into account all the packages that are installed. This behaviour is the source of the following dependency conflicts.\n",
      "torchtext 0.13.1 requires torch==1.12.1, but you have torch 1.11.0 which is incompatible.\n",
      "torchaudio 0.12.1+cu113 requires torch==1.12.1, but you have torch 1.11.0 which is incompatible.\n",
      "en-core-web-sm 3.4.1 requires spacy<3.5.0,>=3.4.0, but you have spacy 3.2.4 which is incompatible.\u001B[0m\n",
      "Successfully installed PyYAML-5.3.1 SPARQLWrapper-1.8.5 babelpy-1.0.1 clayrs-0.4.0 colorama-0.4.6 distex-0.7.2 ekphrasis-0.5.4 eventkit-1.0.0 ftfy-6.1.1 gensim-4.1.2 huggingface-hub-0.11.1 isodate-0.6.1 mysql-0.0.3 mysql-connector-python-8.0.31 mysqlclient-2.1.1 nest-asyncio-1.5.6 pandas-1.2.5 pyaml-21.10.1 pydantic-1.8.2 pywsd-1.2.5 rdflib-6.2.0 sacremoses-0.0.53 sentence-transformers-1.2.1 sentencepiece-0.1.97 spacy-3.2.4 thinc-8.0.17 tokenizers-0.10.3 torch-1.11.0 torchvision-0.12.0 tqdm-4.62.3 transformers-4.15.0 typer-0.4.2 ujson-5.5.0 whoosh-2.7.4 wn-0.0.23\n"
     ]
    }
   ],
   "source": [
    "!pip install clayrs"
   ]
  },
  {
   "cell_type": "markdown",
   "metadata": {
    "id": "G1MOZctwVyW5"
   },
   "source": [
    "# **! RESTART RUNTIME !**"
   ]
  },
  {
   "cell_type": "code",
   "source": [
    "# for reproducibility but it's not perfect:\n",
    "# some environment variables should be set before starting\n",
    "# the python interpreter\n",
    "\n",
    "import numpy\n",
    "import random\n",
    "numpy.random.seed(42)\n",
    "random.seed(42)"
   ],
   "metadata": {
    "id": "ayzLrd3YP4PH"
   },
   "execution_count": null,
   "outputs": []
  },
  {
   "cell_type": "markdown",
   "metadata": {
    "id": "VTZB50Y3rN-8"
   },
   "source": [
    "# Correct order log and prints for IPython\n",
    "This is necessary only for IPython environments (Colab, Jupyter, etc.), since they mess up the order of  ```print``` and ```logging```\n",
    "\n",
    "```python\n",
    "# EXAMPLE of the issue\n",
    "import logging\n",
    "print(\"Should go first\")\n",
    "logging.warning(\"Should go second\")\n",
    "\n",
    "WARNING:root:Should go second\n",
    "Should go first\n",
    "```"
   ]
  },
  {
   "cell_type": "code",
   "execution_count": null,
   "metadata": {
    "id": "GOTUezxnqzn7"
   },
   "outputs": [],
   "source": [
    "import functools\n",
    "print = functools.partial(print, flush=True)"
   ]
  },
  {
   "cell_type": "markdown",
   "metadata": {
    "id": "uVKotTbvf_rC"
   },
   "source": [
    "# Import and datasets download\n",
    "\n",
    "The framework is made of three modules:\n",
    "> 1.   Content Analyzer\n",
    "> 2.   Recommender System\n",
    "> 3.   Evaluation\n",
    "\n",
    "We import every module as a library and use classes and methods by using the dot notation:"
   ]
  },
  {
   "cell_type": "code",
   "execution_count": null,
   "metadata": {
    "id": "SctkIBio9dhe"
   },
   "outputs": [],
   "source": [
    "from clayrs import content_analyzer as ca\n",
    "from clayrs import recsys as rs\n",
    "from clayrs import evaluation as eva\n",
    "\n",
    "# Usage:\n",
    "# ...\n",
    "# ca.Ratings()\n",
    "# rs.ContentBasedRS()\n",
    "# eva.EvalModel()\n",
    "# ..."
   ]
  },
  {
   "cell_type": "markdown",
   "metadata": {
    "id": "zYjcSfTtCXEw"
   },
   "source": [
    "We use **Movielens 100k** as dataset, with items info expanded thanks to imdb\n",
    "\n",
    "***POSSIBLE TO DO***: custom class with several built-in toy datasets?"
   ]
  },
  {
   "cell_type": "code",
   "execution_count": null,
   "metadata": {
    "colab": {
     "base_uri": "https://localhost:8080/"
    },
    "id": "HwEnaPj4pvCS",
    "outputId": "fa588e2f-ac5c-438e-beec-b90372c65243"
   },
   "outputs": [
    {
     "output_type": "stream",
     "name": "stdout",
     "text": [
      "Downloaded items_info.json!\n",
      "Downloaded users_info.csv!\n",
      "Downloaded ratings.csv!\n"
     ]
    }
   ],
   "source": [
    "import requests\n",
    "\n",
    "def dl_file(url, output):\n",
    "    r = requests.get(url, allow_redirects=True)\n",
    "    with open(output, \"wb\") as handler:\n",
    "        handler.write(r.content)\n",
    "\n",
    "    print(f\"Downloaded {output}!\")\n",
    "\n",
    "# Dataset: Movielens-100k\n",
    "\n",
    "# download items_info\n",
    "url_items_info = \"https://raw.githubusercontent.com/swapUniba/clayrs/master/datasets/ml-100k/items_info.json\"\n",
    "dl_file(url_items_info, \"items_info.json\")\n",
    "\n",
    "# download users_info\n",
    "url_users_info = \"https://raw.githubusercontent.com/swapUniba/clayrs/master/datasets/ml-100k/users_info.csv\"\n",
    "dl_file(url_users_info, \"users_info.csv\")\n",
    "\n",
    "# download ratings\n",
    "url_ratings = \"https://raw.githubusercontent.com/swapUniba/clayrs/master/datasets/ml-100k/ratings.csv\"\n",
    "dl_file(url_ratings, \"ratings.csv\")"
   ]
  },
  {
   "cell_type": "markdown",
   "metadata": {
    "id": "EBOImtHzxTlQ"
   },
   "source": [
    "### Check items file\n",
    "In this example, the file containing items info is a JSON where every entry corresponds to a movie.\n",
    "\n",
    "For every movie there are various information, such as *genres, directors, cast, etc.*"
   ]
  },
  {
   "cell_type": "code",
   "execution_count": null,
   "metadata": {
    "colab": {
     "base_uri": "https://localhost:8080/"
    },
    "id": "eAMUA6B6wSje",
    "outputId": "05e684de-4c39-461d-bf78-208e389f9a77"
   },
   "outputs": [
    {
     "output_type": "stream",
     "name": "stdout",
     "text": [
      "[\n",
      "    {\n",
      "        \"movielens_id\": \"1\",\n",
      "        \"imdb_id\": \"0114709\",\n",
      "        \"title\": \"Toy Story\",\n",
      "        \"plot\": \"A cowboy doll is profoundly threatened and jealous when a new spaceman figure supplants him as top toy in a boy's room.\",\n",
      "        \"genres\": \"Animation, Adventure, Comedy, Family, Fantasy\",\n",
      "        \"year\": \"1995\",\n",
      "        \"rating\": \"8.3\",\n",
      "        \"directors\": \"John Lasseter\",\n",
      "        \"cast\": \"Tom Hanks, Tim Allen, Don Rickles, Jim Varney, Wallace Shawn, John Ratzenberger, Annie Potts, John Morris, Erik von Detten, Laurie Metcalf, R. Lee Ermey, Sarah Rayne, Penn Jillette, Jack Angel, Spencer Aste, Greg Berg, Lisa Bradley, Kendall Cunningham, Debi Derryberry, Cody Dorkin, Bill Farmer, Craig Good, Gregory Grudt, Danielle Judovits, Sam Lasseter, Brittany Levenbrown, Sherry Lynn, Scott McAfee, Mickie McGowan, Ryan O'Donohue, Jeff Pidgeon, Patrick Pinney, Phil Proctor, Jan Rabson, Joe Ranft, Andrew Stanton, Shane Sweet, Wayne Allwine, Tony Anselmo, Jonathan Benair, Anthony Burch, John Lasseter, Billy West\",\n",
      "        \"dbpedia_uri\": \"http://dbpedia.org/resource/Toy_Story\",\n",
      "        \"dbpedia_label\": \"Toy Story\"\n",
      "    },\n",
      "    {\n",
      "        \"movielens_id\": \"2\",\n",
      "        \"imdb_id\": \"0113189\",\n",
      "        \"title\": \"GoldenEye\",\n",
      "        \"plot\": \"Years after a friend and fellow 00 agent is killed on a joint mission, a secret space based weapons program known as \\\"_GoldenEye_ (qv)\\\" is stolen. James Bond sets out to stop a Russian crime syndicate from using the weapon.\",\n",
      "        \"genres\": \"Action, Adventure, Thriller\",\n",
      "        \"year\": \"1995\",\n",
      "        \"rating\": \"7.2\",\n",
      "        \"directors\": \"Martin Campbell\",\n",
      "        \"cast\": \"Pierce Brosnan, Sean Bean, Izabella Scorupco, Famke Janssen, Joe Don Baker, Judi Dench, Robbie Coltrane, Tchéky Karyo, Gottfried John, Alan Cumming, Desmond Llewelyn, Samantha Bond, Michael Kitchen, Serena Gordon, Simon Kunz, Pavel Douglas, Olivier Lajous, Billy J. Mitchell, Constantine Gregory, Minnie Driver, Michelle Arthur, Ravil Isyanov, Vladimir Milanovich, Trevor Byfield, Peter Majer, Paul Bannon, Simone Bechtel, Martin Campbell, Mark Chapman, Kenneth Coombs, Simon Crane, Terrance Denville, Ian Durrant, Max Faulkner, Juliet Forester, Stefan Kopiecki, Jo Anna Lee, Derek Lyons, Wayne Michaels, Bhasker Patel, Paul Sacks, Michael G. Wilson\",\n",
      "        \"dbpedia_uri\": \"http://dbpedia.org/resource/GoldenEye\",\n"
     ]
    }
   ],
   "source": [
    "with open(\"items_info.json\", \"r\") as f:\n",
    "  # 25 lines but in these 25 lines there are only 2 entries:\n",
    "  # 'Toy Story', and 'Golden Eye'\n",
    "  for _ in range(25):\n",
    "    print(f.readline(), end='')\n"
   ]
  },
  {
   "cell_type": "markdown",
   "metadata": {
    "id": "NrGycV8NxkwF"
   },
   "source": [
    "### Check users file\n",
    "In this example, the file containing users info is a CSV file where the first column is the *user id*, while the other columns are side information for that user (*gender, occupation, zip code*)"
   ]
  },
  {
   "cell_type": "code",
   "execution_count": null,
   "metadata": {
    "colab": {
     "base_uri": "https://localhost:8080/"
    },
    "id": "vUKLNAnMxEnh",
    "outputId": "308fa86a-c282-44e2-dc60-b2314d295076"
   },
   "outputs": [
    {
     "output_type": "stream",
     "name": "stdout",
     "text": [
      "user_id,age,gender,occupation,zip_code\n",
      "1,24,M,technician,85711\n",
      "2,53,F,other,94043\n"
     ]
    }
   ],
   "source": [
    "with open(\"users_info.csv\", \"r\") as f:\n",
    "\n",
    "  # print the header and the first 2 entries\n",
    "  for _ in range(3):\n",
    "    print(f.readline(), end='')"
   ]
  },
  {
   "cell_type": "markdown",
   "metadata": {
    "id": "dteEOqLxkDGR"
   },
   "source": [
    "<a name=\"cell-id\"></a>\n",
    "### Check ratings\n",
    "In this example, the file containing the interactions between the users and the movies is a CSV, where every interaction is a rating in the **[1, 5]** Likert scale"
   ]
  },
  {
   "cell_type": "code",
   "execution_count": null,
   "metadata": {
    "colab": {
     "base_uri": "https://localhost:8080/",
     "height": 424
    },
    "id": "Q3FvQsaIkbtz",
    "outputId": "2fda50cb-f1f3-436d-c416-5fbc7b2322d9"
   },
   "outputs": [
    {
     "output_type": "execute_result",
     "data": {
      "text/plain": [
       "       user_id  item_id  rating  timestamp\n",
       "0          196      242       3  881250949\n",
       "1          186      302       3  891717742\n",
       "2           22      377       1  878887116\n",
       "3          244       51       2  880606923\n",
       "4          166      346       1  886397596\n",
       "...        ...      ...     ...        ...\n",
       "99995      880      476       3  880175444\n",
       "99996      716      204       5  879795543\n",
       "99997      276     1090       1  874795795\n",
       "99998       13      225       2  882399156\n",
       "99999       12      203       3  879959583\n",
       "\n",
       "[100000 rows x 4 columns]"
      ],
      "text/html": [
       "\n",
       "  <div id=\"df-57eb8478-2691-4e42-8c92-be5b2e69bc73\">\n",
       "    <div class=\"colab-df-container\">\n",
       "      <div>\n",
       "<style scoped>\n",
       "    .dataframe tbody tr th:only-of-type {\n",
       "        vertical-align: middle;\n",
       "    }\n",
       "\n",
       "    .dataframe tbody tr th {\n",
       "        vertical-align: top;\n",
       "    }\n",
       "\n",
       "    .dataframe thead th {\n",
       "        text-align: right;\n",
       "    }\n",
       "</style>\n",
       "<table border=\"1\" class=\"dataframe\">\n",
       "  <thead>\n",
       "    <tr style=\"text-align: right;\">\n",
       "      <th></th>\n",
       "      <th>user_id</th>\n",
       "      <th>item_id</th>\n",
       "      <th>rating</th>\n",
       "      <th>timestamp</th>\n",
       "    </tr>\n",
       "  </thead>\n",
       "  <tbody>\n",
       "    <tr>\n",
       "      <th>0</th>\n",
       "      <td>196</td>\n",
       "      <td>242</td>\n",
       "      <td>3</td>\n",
       "      <td>881250949</td>\n",
       "    </tr>\n",
       "    <tr>\n",
       "      <th>1</th>\n",
       "      <td>186</td>\n",
       "      <td>302</td>\n",
       "      <td>3</td>\n",
       "      <td>891717742</td>\n",
       "    </tr>\n",
       "    <tr>\n",
       "      <th>2</th>\n",
       "      <td>22</td>\n",
       "      <td>377</td>\n",
       "      <td>1</td>\n",
       "      <td>878887116</td>\n",
       "    </tr>\n",
       "    <tr>\n",
       "      <th>3</th>\n",
       "      <td>244</td>\n",
       "      <td>51</td>\n",
       "      <td>2</td>\n",
       "      <td>880606923</td>\n",
       "    </tr>\n",
       "    <tr>\n",
       "      <th>4</th>\n",
       "      <td>166</td>\n",
       "      <td>346</td>\n",
       "      <td>1</td>\n",
       "      <td>886397596</td>\n",
       "    </tr>\n",
       "    <tr>\n",
       "      <th>...</th>\n",
       "      <td>...</td>\n",
       "      <td>...</td>\n",
       "      <td>...</td>\n",
       "      <td>...</td>\n",
       "    </tr>\n",
       "    <tr>\n",
       "      <th>99995</th>\n",
       "      <td>880</td>\n",
       "      <td>476</td>\n",
       "      <td>3</td>\n",
       "      <td>880175444</td>\n",
       "    </tr>\n",
       "    <tr>\n",
       "      <th>99996</th>\n",
       "      <td>716</td>\n",
       "      <td>204</td>\n",
       "      <td>5</td>\n",
       "      <td>879795543</td>\n",
       "    </tr>\n",
       "    <tr>\n",
       "      <th>99997</th>\n",
       "      <td>276</td>\n",
       "      <td>1090</td>\n",
       "      <td>1</td>\n",
       "      <td>874795795</td>\n",
       "    </tr>\n",
       "    <tr>\n",
       "      <th>99998</th>\n",
       "      <td>13</td>\n",
       "      <td>225</td>\n",
       "      <td>2</td>\n",
       "      <td>882399156</td>\n",
       "    </tr>\n",
       "    <tr>\n",
       "      <th>99999</th>\n",
       "      <td>12</td>\n",
       "      <td>203</td>\n",
       "      <td>3</td>\n",
       "      <td>879959583</td>\n",
       "    </tr>\n",
       "  </tbody>\n",
       "</table>\n",
       "<p>100000 rows × 4 columns</p>\n",
       "</div>\n",
       "      <button class=\"colab-df-convert\" onclick=\"convertToInteractive('df-57eb8478-2691-4e42-8c92-be5b2e69bc73')\"\n",
       "              title=\"Convert this dataframe to an interactive table.\"\n",
       "              style=\"display:none;\">\n",
       "        \n",
       "  <svg xmlns=\"http://www.w3.org/2000/svg\" height=\"24px\"viewBox=\"0 0 24 24\"\n",
       "       width=\"24px\">\n",
       "    <path d=\"M0 0h24v24H0V0z\" fill=\"none\"/>\n",
       "    <path d=\"M18.56 5.44l.94 2.06.94-2.06 2.06-.94-2.06-.94-.94-2.06-.94 2.06-2.06.94zm-11 1L8.5 8.5l.94-2.06 2.06-.94-2.06-.94L8.5 2.5l-.94 2.06-2.06.94zm10 10l.94 2.06.94-2.06 2.06-.94-2.06-.94-.94-2.06-.94 2.06-2.06.94z\"/><path d=\"M17.41 7.96l-1.37-1.37c-.4-.4-.92-.59-1.43-.59-.52 0-1.04.2-1.43.59L10.3 9.45l-7.72 7.72c-.78.78-.78 2.05 0 2.83L4 21.41c.39.39.9.59 1.41.59.51 0 1.02-.2 1.41-.59l7.78-7.78 2.81-2.81c.8-.78.8-2.07 0-2.86zM5.41 20L4 18.59l7.72-7.72 1.47 1.35L5.41 20z\"/>\n",
       "  </svg>\n",
       "      </button>\n",
       "      \n",
       "  <style>\n",
       "    .colab-df-container {\n",
       "      display:flex;\n",
       "      flex-wrap:wrap;\n",
       "      gap: 12px;\n",
       "    }\n",
       "\n",
       "    .colab-df-convert {\n",
       "      background-color: #E8F0FE;\n",
       "      border: none;\n",
       "      border-radius: 50%;\n",
       "      cursor: pointer;\n",
       "      display: none;\n",
       "      fill: #1967D2;\n",
       "      height: 32px;\n",
       "      padding: 0 0 0 0;\n",
       "      width: 32px;\n",
       "    }\n",
       "\n",
       "    .colab-df-convert:hover {\n",
       "      background-color: #E2EBFA;\n",
       "      box-shadow: 0px 1px 2px rgba(60, 64, 67, 0.3), 0px 1px 3px 1px rgba(60, 64, 67, 0.15);\n",
       "      fill: #174EA6;\n",
       "    }\n",
       "\n",
       "    [theme=dark] .colab-df-convert {\n",
       "      background-color: #3B4455;\n",
       "      fill: #D2E3FC;\n",
       "    }\n",
       "\n",
       "    [theme=dark] .colab-df-convert:hover {\n",
       "      background-color: #434B5C;\n",
       "      box-shadow: 0px 1px 3px 1px rgba(0, 0, 0, 0.15);\n",
       "      filter: drop-shadow(0px 1px 2px rgba(0, 0, 0, 0.3));\n",
       "      fill: #FFFFFF;\n",
       "    }\n",
       "  </style>\n",
       "\n",
       "      <script>\n",
       "        const buttonEl =\n",
       "          document.querySelector('#df-57eb8478-2691-4e42-8c92-be5b2e69bc73 button.colab-df-convert');\n",
       "        buttonEl.style.display =\n",
       "          google.colab.kernel.accessAllowed ? 'block' : 'none';\n",
       "\n",
       "        async function convertToInteractive(key) {\n",
       "          const element = document.querySelector('#df-57eb8478-2691-4e42-8c92-be5b2e69bc73');\n",
       "          const dataTable =\n",
       "            await google.colab.kernel.invokeFunction('convertToInteractive',\n",
       "                                                     [key], {});\n",
       "          if (!dataTable) return;\n",
       "\n",
       "          const docLinkHtml = 'Like what you see? Visit the ' +\n",
       "            '<a target=\"_blank\" href=https://colab.research.google.com/notebooks/data_table.ipynb>data table notebook</a>'\n",
       "            + ' to learn more about interactive tables.';\n",
       "          element.innerHTML = '';\n",
       "          dataTable['output_type'] = 'display_data';\n",
       "          await google.colab.output.renderOutput(dataTable, element);\n",
       "          const docLink = document.createElement('div');\n",
       "          docLink.innerHTML = docLinkHtml;\n",
       "          element.appendChild(docLink);\n",
       "        }\n",
       "      </script>\n",
       "    </div>\n",
       "  </div>\n",
       "  "
      ]
     },
     "metadata": {},
     "execution_count": 7
    }
   ],
   "source": [
    "import pandas as pd\n",
    "\n",
    "pd.read_csv('ratings.csv')"
   ]
  },
  {
   "cell_type": "markdown",
   "metadata": {
    "id": "ilGpvNnPgHay"
   },
   "source": [
    "# Content Analyzer: representation of Items\n",
    "In order to define the *item representation*, the following parameters should be defined:\n",
    "*   ***source***: the path of the file containing items info\n",
    "*   ***id***: the field that uniquely identifies an item\n",
    "*   ***output_directory***: the path where serialized representations are saved\n",
    "\n"
   ]
  },
  {
   "cell_type": "code",
   "execution_count": null,
   "metadata": {
    "id": "gORk6J3wqJGB"
   },
   "outputs": [],
   "source": [
    "# Configuration of item representation \n",
    "movies_ca_config = ca.ItemAnalyzerConfig(\n",
    "    source=ca.JSONFile('items_info.json'),\n",
    "    id='movielens_id',\n",
    "    output_directory='movies_codified/',\n",
    ")"
   ]
  },
  {
   "cell_type": "markdown",
   "metadata": {
    "id": "YfnkSpfTjuDq"
   },
   "source": [
    "<a name=\"ca_id\"></a>\n",
    "Each item can be represented using a set of fields.\n",
    "Every field can be **represented** using several techniques, such as *'tfidf'*, *'entity linking'*, *'embeddings'*, etc.\n",
    "\n",
    "It is possible to process the content of each field using a **Natural Language Processing (NLP) pipeline**.  \n",
    "It is also possible to assign a **custom id** for each generated representation, in order to allow a simpler reference in the recommendation phase. Both NLP pipeline and custom id are optional parameters.\n",
    "\n",
    "> In the following example, we process: \n",
    "1. the *'plot'* field by performing **lemmatization** and **stopwords removal**, and we represent it using **tfidf** and **sbert** which will produce embedding for each sentence of the document"
   ]
  },
  {
   "cell_type": "code",
   "execution_count": null,
   "metadata": {
    "id": "YA8GfrkrqJ4S"
   },
   "outputs": [],
   "source": [
    "movies_ca_config.add_multiple_config(\n",
    "    'plot',\n",
    "    [ca.FieldConfig(ca.SkLearnTfIdf(),\n",
    "                   preprocessing=ca.NLTK(stopwords_removal=True, lemmatization=True),\n",
    "                   id='tfidf'),\n",
    "\n",
    "     ca.FieldConfig(ca.SentenceEmbeddingTechnique(ca.Sbert()),\n",
    "                   preprocessing=ca.NLTK(stopwords_removal=True, lemmatization=True),\n",
    "                   id='sbert'),\n",
    "     ]\n",
    ")"
   ]
  },
  {
   "cell_type": "markdown",
   "metadata": {
    "id": "0e24qhQVkXIc"
   },
   "source": [
    "At the end of the configuration step, we provide the configuration to the *'Content Analyzer'* and call the `fit()` method:\n",
    "\n",
    "*   The Content Analyzer will **represent** and **serialize** every item.\n",
    "\n"
   ]
  },
  {
   "cell_type": "code",
   "execution_count": null,
   "metadata": {
    "colab": {
     "base_uri": "https://localhost:8080/"
    },
    "id": "yXU-Vuw2twuN",
    "outputId": "2ab86dc3-2d34-4e60-fdd5-e4c006c4d65b"
   },
   "outputs": [
    {
     "output_type": "stream",
     "name": "stderr",
     "text": [
      "\u001B[39mINFO\u001B[0m - ***********   Processing field: plot   ***********\n",
      "\u001B[39mINFO\u001B[0m - Computing tf-idf with SkLearnTfIdf\n",
      "Processing and producing contents with Sbert:  100%|██████████| 1682/1682 [04:57<00:00]\n",
      "Serializing contents:  100%|██████████| 1682/1682 [00:10<00:00]\n"
     ]
    }
   ],
   "source": [
    "ca.ContentAnalyzer(config=movies_ca_config).fit()"
   ]
  },
  {
   "cell_type": "markdown",
   "metadata": {
    "id": "dr0qljcRhpW6"
   },
   "source": [
    "# Recsys phase and Eval phase: Experiment class"
   ]
  },
  {
   "cell_type": "markdown",
   "source": [
    "Up until now, after complexly representing each item, we performed the same set of operations:\n",
    "1. Split the dataset;\n",
    "2. Chose the algorithm;\n",
    "3. Compute rank for each user;\n",
    "4. Evaluate recommendations produced on some defined metrics\n",
    "\n",
    "What if we want to compare **several** algorithms? Should we perform manually each step? Can we ***automate*** this process?\n",
    "\n",
    "Yes we can with the ***Experiment*** class!"
   ],
   "metadata": {
    "collapsed": false,
    "id": "hVzO5e2PjFCy"
   }
  },
  {
   "cell_type": "markdown",
   "metadata": {
    "id": "Ms6kU0TEr_ps"
   },
   "source": [
    "Let's first load the original dataset"
   ]
  },
  {
   "cell_type": "code",
   "execution_count": null,
   "metadata": {
    "colab": {
     "base_uri": "https://localhost:8080/"
    },
    "id": "XjxZ9yTnvVW-",
    "outputId": "5f170ee5-13dc-4520-a2d4-536dee5321a0"
   },
   "outputs": [
    {
     "output_type": "stream",
     "name": "stderr",
     "text": [
      "Importing ratings:  100%|██████████| 100000/100000 [00:00<00:00]\n"
     ]
    },
    {
     "output_type": "stream",
     "name": "stdout",
     "text": [
      "      user_id item_id  score\n",
      "0         196     242    3.0\n",
      "1         196     393    4.0\n",
      "2         196     381    4.0\n",
      "3         196     251    3.0\n",
      "4         196     655    5.0\n",
      "...       ...     ...    ...\n",
      "99995     941     919    5.0\n",
      "99996     941     273    3.0\n",
      "99997     941       1    5.0\n",
      "99998     941     294    4.0\n",
      "99999     941    1007    4.0\n",
      "\n",
      "[100000 rows x 3 columns]\n"
     ]
    }
   ],
   "source": [
    "ratings = ca.Ratings(ca.CSVFile('ratings.csv'))\n",
    "\n",
    "print(ratings)"
   ]
  },
  {
   "cell_type": "markdown",
   "source": [
    "And now let's choose several algorithms to compare. In this case, we will compute recommendations with:\n",
    "\n",
    "* The **KNN** classifier using only the *tfidf* representation of the *'plot'* field\n",
    "* The **SVC** classifier using both tfidf and *sbert* representation of the *'plot'* field\n",
    "* The **LinearRegression** regressor using only the *tfidf* representation of the *'plot'* field\n",
    "    * This last one can also perform *score prediction* other than computing *recommendation lists*"
   ],
   "metadata": {
    "collapsed": false,
    "id": "3SFYPl9VjFCy"
   }
  },
  {
   "cell_type": "code",
   "execution_count": null,
   "outputs": [],
   "source": [
    "alg1 = rs.ClassifierRecommender({'plot': 'tfidf'}, classifier=rs.SkKNN())\n",
    "alg2 = rs.ClassifierRecommender({'plot': ['tfidf', 'sbert']}, classifier=rs.SkSVC(random_state=42))\n",
    "alg3 = rs.LinearPredictor({'plot': 'tfidf'}, regressor=rs.SkLinearRegression())"
   ],
   "metadata": {
    "id": "p492dDkDjFCy"
   }
  },
  {
   "cell_type": "markdown",
   "source": [
    "The last thing to do is to instantiate the `ContentBasedExperiment` class and simply set everything that we want the class to do!"
   ],
   "metadata": {
    "collapsed": false,
    "id": "CCjpPXaQjFCz"
   }
  },
  {
   "cell_type": "code",
   "execution_count": null,
   "outputs": [
    {
     "output_type": "stream",
     "name": "stderr",
     "text": [
      "Performing HoldOutPartitioning:  100%|██████████| 943/943 [00:00<00:00]\n",
      "\n",
      "\u001B[39mINFO\u001B[0m - ******* Processing alg ClassifierRecommender *******\n",
      "\u001B[39mINFO\u001B[0m - Don't worry if it looks stuck at first\n",
      "\u001B[39mINFO\u001B[0m - First iterations will stabilize the estimated remaining time\n",
      "Computing fit_rank for user 624:  100%|██████████| 943/943 [00:27<00:00]\n",
      "\u001B[39mINFO\u001B[0m - Performing evaluation on metrics chosen\n",
      "Performing F1@5 - micro:  100%|██████████| 3/3 [00:00<00:00]\n",
      "\n",
      "\u001B[39mINFO\u001B[0m - Results saved in 'experiment_result/ClassifierRecommender_1'\n",
      "\n",
      "\u001B[39mINFO\u001B[0m - ******* Processing alg ClassifierRecommender *******\n",
      "\u001B[39mINFO\u001B[0m - Don't worry if it looks stuck at first\n",
      "\u001B[39mINFO\u001B[0m - First iterations will stabilize the estimated remaining time\n",
      "Computing fit_rank for user 624:  100%|██████████| 943/943 [01:54<00:00]\n",
      "\u001B[39mINFO\u001B[0m - Performing evaluation on metrics chosen\n",
      "Performing F1@5 - micro:  100%|██████████| 3/3 [00:00<00:00]\n",
      "\n",
      "\u001B[39mINFO\u001B[0m - Results saved in 'experiment_result/ClassifierRecommender_2'\n",
      "\n",
      "\u001B[39mINFO\u001B[0m - ******* Processing alg LinearPredictor *******\n",
      "\u001B[39mINFO\u001B[0m - Don't worry if it looks stuck at first\n",
      "\u001B[39mINFO\u001B[0m - First iterations will stabilize the estimated remaining time\n",
      "Computing fit_rank for user 624:  100%|██████████| 943/943 [00:29<00:00]\n",
      "\u001B[39mINFO\u001B[0m - Performing evaluation on metrics chosen\n",
      "Performing F1@5 - micro:  100%|██████████| 3/3 [00:00<00:00]\n",
      "\n",
      "\u001B[39mINFO\u001B[0m - Results saved in 'experiment_result/LinearPredictor_1'\n"
     ]
    }
   ],
   "source": [
    "rs.ContentBasedExperiment(\n",
    "    ratings,\n",
    "    items_directory=\"movies_codified\",\n",
    "    partitioning_technique=rs.HoldOutPartitioning(train_set_size=0.75, random_state=99),\n",
    "    algorithm_list=[alg1, alg2, alg3],\n",
    "    metric_list=[\n",
    "        eva.PrecisionAtK(k=5),\n",
    "        eva.RecallAtK(k=5),\n",
    "        eva.FMeasureAtK(k=5, sys_average='micro')\n",
    "    ]\n",
    ").rank(methodology=rs.TestRatingsMethodology())"
   ],
   "metadata": {
    "colab": {
     "base_uri": "https://localhost:8080/"
    },
    "id": "cLHvEGZAjFCz",
    "outputId": "0792f0d4-7edb-408f-c30c-b17c27a1e86e"
   }
  },
  {
   "cell_type": "code",
   "execution_count": null,
   "outputs": [
    {
     "output_type": "stream",
     "name": "stdout",
     "text": [
      "KNN results:\n"
     ]
    },
    {
     "output_type": "execute_result",
     "data": {
      "text/plain": [
       "       user_id  Precision@5 - macro  Recall@5 - macro  F1@5 - micro\n",
       "0  sys - fold1             0.585154          0.390567      0.296396\n",
       "1   sys - mean             0.585154          0.390567      0.296396"
      ],
      "text/html": [
       "\n",
       "  <div id=\"df-45e618a6-1bca-439e-8689-507a68fd26c4\">\n",
       "    <div class=\"colab-df-container\">\n",
       "      <div>\n",
       "<style scoped>\n",
       "    .dataframe tbody tr th:only-of-type {\n",
       "        vertical-align: middle;\n",
       "    }\n",
       "\n",
       "    .dataframe tbody tr th {\n",
       "        vertical-align: top;\n",
       "    }\n",
       "\n",
       "    .dataframe thead th {\n",
       "        text-align: right;\n",
       "    }\n",
       "</style>\n",
       "<table border=\"1\" class=\"dataframe\">\n",
       "  <thead>\n",
       "    <tr style=\"text-align: right;\">\n",
       "      <th></th>\n",
       "      <th>user_id</th>\n",
       "      <th>Precision@5 - macro</th>\n",
       "      <th>Recall@5 - macro</th>\n",
       "      <th>F1@5 - micro</th>\n",
       "    </tr>\n",
       "  </thead>\n",
       "  <tbody>\n",
       "    <tr>\n",
       "      <th>0</th>\n",
       "      <td>sys - fold1</td>\n",
       "      <td>0.585154</td>\n",
       "      <td>0.390567</td>\n",
       "      <td>0.296396</td>\n",
       "    </tr>\n",
       "    <tr>\n",
       "      <th>1</th>\n",
       "      <td>sys - mean</td>\n",
       "      <td>0.585154</td>\n",
       "      <td>0.390567</td>\n",
       "      <td>0.296396</td>\n",
       "    </tr>\n",
       "  </tbody>\n",
       "</table>\n",
       "</div>\n",
       "      <button class=\"colab-df-convert\" onclick=\"convertToInteractive('df-45e618a6-1bca-439e-8689-507a68fd26c4')\"\n",
       "              title=\"Convert this dataframe to an interactive table.\"\n",
       "              style=\"display:none;\">\n",
       "        \n",
       "  <svg xmlns=\"http://www.w3.org/2000/svg\" height=\"24px\"viewBox=\"0 0 24 24\"\n",
       "       width=\"24px\">\n",
       "    <path d=\"M0 0h24v24H0V0z\" fill=\"none\"/>\n",
       "    <path d=\"M18.56 5.44l.94 2.06.94-2.06 2.06-.94-2.06-.94-.94-2.06-.94 2.06-2.06.94zm-11 1L8.5 8.5l.94-2.06 2.06-.94-2.06-.94L8.5 2.5l-.94 2.06-2.06.94zm10 10l.94 2.06.94-2.06 2.06-.94-2.06-.94-.94-2.06-.94 2.06-2.06.94z\"/><path d=\"M17.41 7.96l-1.37-1.37c-.4-.4-.92-.59-1.43-.59-.52 0-1.04.2-1.43.59L10.3 9.45l-7.72 7.72c-.78.78-.78 2.05 0 2.83L4 21.41c.39.39.9.59 1.41.59.51 0 1.02-.2 1.41-.59l7.78-7.78 2.81-2.81c.8-.78.8-2.07 0-2.86zM5.41 20L4 18.59l7.72-7.72 1.47 1.35L5.41 20z\"/>\n",
       "  </svg>\n",
       "      </button>\n",
       "      \n",
       "  <style>\n",
       "    .colab-df-container {\n",
       "      display:flex;\n",
       "      flex-wrap:wrap;\n",
       "      gap: 12px;\n",
       "    }\n",
       "\n",
       "    .colab-df-convert {\n",
       "      background-color: #E8F0FE;\n",
       "      border: none;\n",
       "      border-radius: 50%;\n",
       "      cursor: pointer;\n",
       "      display: none;\n",
       "      fill: #1967D2;\n",
       "      height: 32px;\n",
       "      padding: 0 0 0 0;\n",
       "      width: 32px;\n",
       "    }\n",
       "\n",
       "    .colab-df-convert:hover {\n",
       "      background-color: #E2EBFA;\n",
       "      box-shadow: 0px 1px 2px rgba(60, 64, 67, 0.3), 0px 1px 3px 1px rgba(60, 64, 67, 0.15);\n",
       "      fill: #174EA6;\n",
       "    }\n",
       "\n",
       "    [theme=dark] .colab-df-convert {\n",
       "      background-color: #3B4455;\n",
       "      fill: #D2E3FC;\n",
       "    }\n",
       "\n",
       "    [theme=dark] .colab-df-convert:hover {\n",
       "      background-color: #434B5C;\n",
       "      box-shadow: 0px 1px 3px 1px rgba(0, 0, 0, 0.15);\n",
       "      filter: drop-shadow(0px 1px 2px rgba(0, 0, 0, 0.3));\n",
       "      fill: #FFFFFF;\n",
       "    }\n",
       "  </style>\n",
       "\n",
       "      <script>\n",
       "        const buttonEl =\n",
       "          document.querySelector('#df-45e618a6-1bca-439e-8689-507a68fd26c4 button.colab-df-convert');\n",
       "        buttonEl.style.display =\n",
       "          google.colab.kernel.accessAllowed ? 'block' : 'none';\n",
       "\n",
       "        async function convertToInteractive(key) {\n",
       "          const element = document.querySelector('#df-45e618a6-1bca-439e-8689-507a68fd26c4');\n",
       "          const dataTable =\n",
       "            await google.colab.kernel.invokeFunction('convertToInteractive',\n",
       "                                                     [key], {});\n",
       "          if (!dataTable) return;\n",
       "\n",
       "          const docLinkHtml = 'Like what you see? Visit the ' +\n",
       "            '<a target=\"_blank\" href=https://colab.research.google.com/notebooks/data_table.ipynb>data table notebook</a>'\n",
       "            + ' to learn more about interactive tables.';\n",
       "          element.innerHTML = '';\n",
       "          dataTable['output_type'] = 'display_data';\n",
       "          await google.colab.output.renderOutput(dataTable, element);\n",
       "          const docLink = document.createElement('div');\n",
       "          docLink.innerHTML = docLinkHtml;\n",
       "          element.appendChild(docLink);\n",
       "        }\n",
       "      </script>\n",
       "    </div>\n",
       "  </div>\n",
       "  "
      ]
     },
     "metadata": {},
     "execution_count": 29
    }
   ],
   "source": [
    "print(\"KNN results:\")\n",
    "\n",
    "pd.read_csv(\"experiment_result/ClassifierRecommender_1/eva_sys_results.csv\")"
   ],
   "metadata": {
    "colab": {
     "base_uri": "https://localhost:8080/",
     "height": 129
    },
    "id": "Nfis-sGcjFCz",
    "outputId": "d6de84fd-01f2-4c88-e2c8-baec499b6a5c"
   }
  },
  {
   "cell_type": "code",
   "execution_count": null,
   "outputs": [
    {
     "output_type": "stream",
     "name": "stdout",
     "text": [
      "SVC results:\n"
     ]
    },
    {
     "output_type": "execute_result",
     "data": {
      "text/plain": [
       "       user_id  Precision@5 - macro  Recall@5 - macro  F1@5 - micro\n",
       "0  sys - fold1             0.541888          0.360356       0.27448\n",
       "1   sys - mean             0.541888          0.360356       0.27448"
      ],
      "text/html": [
       "\n",
       "  <div id=\"df-60872258-e31f-4b80-aa1f-607af31222a8\">\n",
       "    <div class=\"colab-df-container\">\n",
       "      <div>\n",
       "<style scoped>\n",
       "    .dataframe tbody tr th:only-of-type {\n",
       "        vertical-align: middle;\n",
       "    }\n",
       "\n",
       "    .dataframe tbody tr th {\n",
       "        vertical-align: top;\n",
       "    }\n",
       "\n",
       "    .dataframe thead th {\n",
       "        text-align: right;\n",
       "    }\n",
       "</style>\n",
       "<table border=\"1\" class=\"dataframe\">\n",
       "  <thead>\n",
       "    <tr style=\"text-align: right;\">\n",
       "      <th></th>\n",
       "      <th>user_id</th>\n",
       "      <th>Precision@5 - macro</th>\n",
       "      <th>Recall@5 - macro</th>\n",
       "      <th>F1@5 - micro</th>\n",
       "    </tr>\n",
       "  </thead>\n",
       "  <tbody>\n",
       "    <tr>\n",
       "      <th>0</th>\n",
       "      <td>sys - fold1</td>\n",
       "      <td>0.541888</td>\n",
       "      <td>0.360356</td>\n",
       "      <td>0.27448</td>\n",
       "    </tr>\n",
       "    <tr>\n",
       "      <th>1</th>\n",
       "      <td>sys - mean</td>\n",
       "      <td>0.541888</td>\n",
       "      <td>0.360356</td>\n",
       "      <td>0.27448</td>\n",
       "    </tr>\n",
       "  </tbody>\n",
       "</table>\n",
       "</div>\n",
       "      <button class=\"colab-df-convert\" onclick=\"convertToInteractive('df-60872258-e31f-4b80-aa1f-607af31222a8')\"\n",
       "              title=\"Convert this dataframe to an interactive table.\"\n",
       "              style=\"display:none;\">\n",
       "        \n",
       "  <svg xmlns=\"http://www.w3.org/2000/svg\" height=\"24px\"viewBox=\"0 0 24 24\"\n",
       "       width=\"24px\">\n",
       "    <path d=\"M0 0h24v24H0V0z\" fill=\"none\"/>\n",
       "    <path d=\"M18.56 5.44l.94 2.06.94-2.06 2.06-.94-2.06-.94-.94-2.06-.94 2.06-2.06.94zm-11 1L8.5 8.5l.94-2.06 2.06-.94-2.06-.94L8.5 2.5l-.94 2.06-2.06.94zm10 10l.94 2.06.94-2.06 2.06-.94-2.06-.94-.94-2.06-.94 2.06-2.06.94z\"/><path d=\"M17.41 7.96l-1.37-1.37c-.4-.4-.92-.59-1.43-.59-.52 0-1.04.2-1.43.59L10.3 9.45l-7.72 7.72c-.78.78-.78 2.05 0 2.83L4 21.41c.39.39.9.59 1.41.59.51 0 1.02-.2 1.41-.59l7.78-7.78 2.81-2.81c.8-.78.8-2.07 0-2.86zM5.41 20L4 18.59l7.72-7.72 1.47 1.35L5.41 20z\"/>\n",
       "  </svg>\n",
       "      </button>\n",
       "      \n",
       "  <style>\n",
       "    .colab-df-container {\n",
       "      display:flex;\n",
       "      flex-wrap:wrap;\n",
       "      gap: 12px;\n",
       "    }\n",
       "\n",
       "    .colab-df-convert {\n",
       "      background-color: #E8F0FE;\n",
       "      border: none;\n",
       "      border-radius: 50%;\n",
       "      cursor: pointer;\n",
       "      display: none;\n",
       "      fill: #1967D2;\n",
       "      height: 32px;\n",
       "      padding: 0 0 0 0;\n",
       "      width: 32px;\n",
       "    }\n",
       "\n",
       "    .colab-df-convert:hover {\n",
       "      background-color: #E2EBFA;\n",
       "      box-shadow: 0px 1px 2px rgba(60, 64, 67, 0.3), 0px 1px 3px 1px rgba(60, 64, 67, 0.15);\n",
       "      fill: #174EA6;\n",
       "    }\n",
       "\n",
       "    [theme=dark] .colab-df-convert {\n",
       "      background-color: #3B4455;\n",
       "      fill: #D2E3FC;\n",
       "    }\n",
       "\n",
       "    [theme=dark] .colab-df-convert:hover {\n",
       "      background-color: #434B5C;\n",
       "      box-shadow: 0px 1px 3px 1px rgba(0, 0, 0, 0.15);\n",
       "      filter: drop-shadow(0px 1px 2px rgba(0, 0, 0, 0.3));\n",
       "      fill: #FFFFFF;\n",
       "    }\n",
       "  </style>\n",
       "\n",
       "      <script>\n",
       "        const buttonEl =\n",
       "          document.querySelector('#df-60872258-e31f-4b80-aa1f-607af31222a8 button.colab-df-convert');\n",
       "        buttonEl.style.display =\n",
       "          google.colab.kernel.accessAllowed ? 'block' : 'none';\n",
       "\n",
       "        async function convertToInteractive(key) {\n",
       "          const element = document.querySelector('#df-60872258-e31f-4b80-aa1f-607af31222a8');\n",
       "          const dataTable =\n",
       "            await google.colab.kernel.invokeFunction('convertToInteractive',\n",
       "                                                     [key], {});\n",
       "          if (!dataTable) return;\n",
       "\n",
       "          const docLinkHtml = 'Like what you see? Visit the ' +\n",
       "            '<a target=\"_blank\" href=https://colab.research.google.com/notebooks/data_table.ipynb>data table notebook</a>'\n",
       "            + ' to learn more about interactive tables.';\n",
       "          element.innerHTML = '';\n",
       "          dataTable['output_type'] = 'display_data';\n",
       "          await google.colab.output.renderOutput(dataTable, element);\n",
       "          const docLink = document.createElement('div');\n",
       "          docLink.innerHTML = docLinkHtml;\n",
       "          element.appendChild(docLink);\n",
       "        }\n",
       "      </script>\n",
       "    </div>\n",
       "  </div>\n",
       "  "
      ]
     },
     "metadata": {},
     "execution_count": 30
    }
   ],
   "source": [
    "print(\"SVC results:\")\n",
    "\n",
    "pd.read_csv(\"experiment_result/ClassifierRecommender_2/eva_sys_results.csv\")"
   ],
   "metadata": {
    "colab": {
     "base_uri": "https://localhost:8080/",
     "height": 129
    },
    "id": "cfHfr11NjFCz",
    "outputId": "c91a4695-5da7-4692-f3a9-ff450a03fd39"
   }
  },
  {
   "cell_type": "code",
   "execution_count": null,
   "outputs": [
    {
     "output_type": "stream",
     "name": "stdout",
     "text": [
      "Linear regression results:\n"
     ]
    },
    {
     "output_type": "execute_result",
     "data": {
      "text/plain": [
       "       user_id  Precision@5 - macro  Recall@5 - macro  F1@5 - micro\n",
       "0  sys - fold1             0.604454          0.399843      0.306172\n",
       "1   sys - mean             0.604454          0.399843      0.306172"
      ],
      "text/html": [
       "\n",
       "  <div id=\"df-1ccc0750-870b-4199-99b4-397e2e20c6ed\">\n",
       "    <div class=\"colab-df-container\">\n",
       "      <div>\n",
       "<style scoped>\n",
       "    .dataframe tbody tr th:only-of-type {\n",
       "        vertical-align: middle;\n",
       "    }\n",
       "\n",
       "    .dataframe tbody tr th {\n",
       "        vertical-align: top;\n",
       "    }\n",
       "\n",
       "    .dataframe thead th {\n",
       "        text-align: right;\n",
       "    }\n",
       "</style>\n",
       "<table border=\"1\" class=\"dataframe\">\n",
       "  <thead>\n",
       "    <tr style=\"text-align: right;\">\n",
       "      <th></th>\n",
       "      <th>user_id</th>\n",
       "      <th>Precision@5 - macro</th>\n",
       "      <th>Recall@5 - macro</th>\n",
       "      <th>F1@5 - micro</th>\n",
       "    </tr>\n",
       "  </thead>\n",
       "  <tbody>\n",
       "    <tr>\n",
       "      <th>0</th>\n",
       "      <td>sys - fold1</td>\n",
       "      <td>0.604454</td>\n",
       "      <td>0.399843</td>\n",
       "      <td>0.306172</td>\n",
       "    </tr>\n",
       "    <tr>\n",
       "      <th>1</th>\n",
       "      <td>sys - mean</td>\n",
       "      <td>0.604454</td>\n",
       "      <td>0.399843</td>\n",
       "      <td>0.306172</td>\n",
       "    </tr>\n",
       "  </tbody>\n",
       "</table>\n",
       "</div>\n",
       "      <button class=\"colab-df-convert\" onclick=\"convertToInteractive('df-1ccc0750-870b-4199-99b4-397e2e20c6ed')\"\n",
       "              title=\"Convert this dataframe to an interactive table.\"\n",
       "              style=\"display:none;\">\n",
       "        \n",
       "  <svg xmlns=\"http://www.w3.org/2000/svg\" height=\"24px\"viewBox=\"0 0 24 24\"\n",
       "       width=\"24px\">\n",
       "    <path d=\"M0 0h24v24H0V0z\" fill=\"none\"/>\n",
       "    <path d=\"M18.56 5.44l.94 2.06.94-2.06 2.06-.94-2.06-.94-.94-2.06-.94 2.06-2.06.94zm-11 1L8.5 8.5l.94-2.06 2.06-.94-2.06-.94L8.5 2.5l-.94 2.06-2.06.94zm10 10l.94 2.06.94-2.06 2.06-.94-2.06-.94-.94-2.06-.94 2.06-2.06.94z\"/><path d=\"M17.41 7.96l-1.37-1.37c-.4-.4-.92-.59-1.43-.59-.52 0-1.04.2-1.43.59L10.3 9.45l-7.72 7.72c-.78.78-.78 2.05 0 2.83L4 21.41c.39.39.9.59 1.41.59.51 0 1.02-.2 1.41-.59l7.78-7.78 2.81-2.81c.8-.78.8-2.07 0-2.86zM5.41 20L4 18.59l7.72-7.72 1.47 1.35L5.41 20z\"/>\n",
       "  </svg>\n",
       "      </button>\n",
       "      \n",
       "  <style>\n",
       "    .colab-df-container {\n",
       "      display:flex;\n",
       "      flex-wrap:wrap;\n",
       "      gap: 12px;\n",
       "    }\n",
       "\n",
       "    .colab-df-convert {\n",
       "      background-color: #E8F0FE;\n",
       "      border: none;\n",
       "      border-radius: 50%;\n",
       "      cursor: pointer;\n",
       "      display: none;\n",
       "      fill: #1967D2;\n",
       "      height: 32px;\n",
       "      padding: 0 0 0 0;\n",
       "      width: 32px;\n",
       "    }\n",
       "\n",
       "    .colab-df-convert:hover {\n",
       "      background-color: #E2EBFA;\n",
       "      box-shadow: 0px 1px 2px rgba(60, 64, 67, 0.3), 0px 1px 3px 1px rgba(60, 64, 67, 0.15);\n",
       "      fill: #174EA6;\n",
       "    }\n",
       "\n",
       "    [theme=dark] .colab-df-convert {\n",
       "      background-color: #3B4455;\n",
       "      fill: #D2E3FC;\n",
       "    }\n",
       "\n",
       "    [theme=dark] .colab-df-convert:hover {\n",
       "      background-color: #434B5C;\n",
       "      box-shadow: 0px 1px 3px 1px rgba(0, 0, 0, 0.15);\n",
       "      filter: drop-shadow(0px 1px 2px rgba(0, 0, 0, 0.3));\n",
       "      fill: #FFFFFF;\n",
       "    }\n",
       "  </style>\n",
       "\n",
       "      <script>\n",
       "        const buttonEl =\n",
       "          document.querySelector('#df-1ccc0750-870b-4199-99b4-397e2e20c6ed button.colab-df-convert');\n",
       "        buttonEl.style.display =\n",
       "          google.colab.kernel.accessAllowed ? 'block' : 'none';\n",
       "\n",
       "        async function convertToInteractive(key) {\n",
       "          const element = document.querySelector('#df-1ccc0750-870b-4199-99b4-397e2e20c6ed');\n",
       "          const dataTable =\n",
       "            await google.colab.kernel.invokeFunction('convertToInteractive',\n",
       "                                                     [key], {});\n",
       "          if (!dataTable) return;\n",
       "\n",
       "          const docLinkHtml = 'Like what you see? Visit the ' +\n",
       "            '<a target=\"_blank\" href=https://colab.research.google.com/notebooks/data_table.ipynb>data table notebook</a>'\n",
       "            + ' to learn more about interactive tables.';\n",
       "          element.innerHTML = '';\n",
       "          dataTable['output_type'] = 'display_data';\n",
       "          await google.colab.output.renderOutput(dataTable, element);\n",
       "          const docLink = document.createElement('div');\n",
       "          docLink.innerHTML = docLinkHtml;\n",
       "          element.appendChild(docLink);\n",
       "        }\n",
       "      </script>\n",
       "    </div>\n",
       "  </div>\n",
       "  "
      ]
     },
     "metadata": {},
     "execution_count": 31
    }
   ],
   "source": [
    "print(\"Linear regression results:\")\n",
    "\n",
    "pd.read_csv(\"experiment_result/LinearPredictor_1/eva_sys_results.csv\")"
   ],
   "metadata": {
    "colab": {
     "base_uri": "https://localhost:8080/",
     "height": 129
    },
    "id": "wFniqCWijFC0",
    "outputId": "dce563c0-395d-4062-ee35-363c43baa764"
   }
  },
  {
   "cell_type": "markdown",
   "source": [
    "# Your turn!"
   ],
   "metadata": {
    "collapsed": false,
    "id": "6MOiiaI_jFC0"
   }
  },
  {
   "cell_type": "markdown",
   "source": [
    "## Experiment report\n",
    "\n",
    "Let the `Experiment` class produce also the *report* in which will be saved all important parameters to ensure replicability"
   ],
   "metadata": {
    "collapsed": false,
    "id": "qUROlHTFjFC0"
   }
  },
  {
   "cell_type": "markdown",
   "source": [
    "### Answer"
   ],
   "metadata": {
    "collapsed": false,
    "id": "3KJ6vjIEjFC0"
   }
  },
  {
   "cell_type": "markdown",
   "source": [
    "## Statistical significance\n",
    "\n",
    "Compute the **Ttest** using the eval results for each user of the three content based algorithms"
   ],
   "metadata": {
    "id": "9E-6GzGsnpBl"
   }
  },
  {
   "cell_type": "markdown",
   "source": [
    "### Answer"
   ],
   "metadata": {
    "id": "rMSN18o454Hm"
   }
  }
 ],
 "metadata": {
  "colab": {
   "provenance": [],
   "collapsed_sections": [
    "3KJ6vjIEjFC0",
    "rMSN18o454Hm"
   ]
  },
  "kernelspec": {
   "display_name": "Python 3 (ipykernel)",
   "language": "python",
   "name": "python3"
  },
  "language_info": {
   "codemirror_mode": {
    "name": "ipython",
    "version": 3
   },
   "file_extension": ".py",
   "mimetype": "text/x-python",
   "name": "python",
   "nbconvert_exporter": "python",
   "pygments_lexer": "ipython3",
   "version": "3.9.7"
  }
 },
 "nbformat": 4,
 "nbformat_minor": 0
}
